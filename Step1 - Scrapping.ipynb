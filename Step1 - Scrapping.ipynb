{
 "cells": [
  {
   "cell_type": "markdown",
   "metadata": {},
   "source": [
    "# Step1 - Scrapping"
   ]
  },
  {
   "cell_type": "code",
   "execution_count": 1,
   "metadata": {
    "ExecuteTime": {
     "end_time": "2020-02-04T15:00:03.873007Z",
     "start_time": "2020-02-04T15:00:03.246373Z"
    }
   },
   "outputs": [],
   "source": [
    "# Imports\n",
    "import os\n",
    "import json\n",
    "import numpy as np\n",
    "import pandas as pd\n",
    "import seaborn as sns\n",
    "import matplotlib.pyplot as plt\n",
    "\n",
    "import scrapy # we will use the scrapy package\n",
    "import requests\n",
    "from scrapy.selector import Selector\n",
    "\n",
    "# Set seaborn display\n",
    "sns.set()"
   ]
  },
  {
   "cell_type": "markdown",
   "metadata": {},
   "source": [
    "### Training: scrapping the Polytechnique website"
   ]
  },
  {
   "cell_type": "markdown",
   "metadata": {},
   "source": [
    "Using selectors, we created a spider which get all the information from polytechnique News page."
   ]
  },
  {
   "cell_type": "markdown",
   "metadata": {},
   "source": [
    "#### Running spider \n",
    "\n",
    "(Running the spider might take over one minute if you remove the __\"-a nb_article_max=100\"__ to get all the articles)"
   ]
  },
  {
   "cell_type": "code",
   "execution_count": 2,
   "metadata": {
    "ExecuteTime": {
     "end_time": "2020-02-04T15:00:07.081618Z",
     "start_time": "2020-02-04T15:00:04.757223Z"
    }
   },
   "outputs": [
    {
     "name": "stdout",
     "output_type": "stream",
     "text": [
      "Scrapping finished.\n"
     ]
    }
   ],
   "source": [
    "# Parameters for spider execution\n",
    "file_path = '../scrapped_data/'\n",
    "file_name = 'actuX_basic_nbk_data.jl'\n",
    "spider_name = 'actuX_basic'\n",
    "path = file_path + file_name\n",
    "\n",
    "# Check if file already exists\n",
    "if file_name in os.listdir(file_path):\n",
    "    _ = os.remove(path)\n",
    "\n",
    "# Execution of spider\n",
    "cmd1 = 'cd ../TA_scrapy/'\n",
    "cmd2 = 'scrapy crawl {} -o {} -a nb_article_max=100'.format(spider_name, path)\n",
    "cmd = cmd1 + ' && ' + cmd2\n",
    "_ = os.system(cmd)\n",
    "\n",
    "if _==0:\n",
    "    print(\"Scrapping finished.\")\n",
    "else:\n",
    "    print('Look at the bash to understand error.')"
   ]
  },
  {
   "cell_type": "markdown",
   "metadata": {},
   "source": [
    "#### Reading scrapped data"
   ]
  },
  {
   "cell_type": "code",
   "execution_count": 3,
   "metadata": {
    "ExecuteTime": {
     "end_time": "2020-02-04T15:00:08.104066Z",
     "start_time": "2020-02-04T15:00:08.078428Z"
    }
   },
   "outputs": [],
   "source": [
    "# Function rto read jl file\n",
    "def read_jl_file(file_name):\n",
    "    values = []\n",
    "    with open(file_name, 'rb') as f:\n",
    "        line = '---'\n",
    "        while len(line)>1:\n",
    "            line = f.readline()\n",
    "            values.append(line)\n",
    "    values = values[:-1]\n",
    "    values = [json.loads(i) for i in values]\n",
    "    df = pd.DataFrame(values)\n",
    "    return df\n",
    "\n",
    "# Reading file\n",
    "df = read_jl_file(path)"
   ]
  },
  {
   "cell_type": "code",
   "execution_count": 4,
   "metadata": {
    "ExecuteTime": {
     "end_time": "2020-02-04T15:00:08.391342Z",
     "start_time": "2020-02-04T15:00:08.365564Z"
    }
   },
   "outputs": [
    {
     "name": "stdout",
     "output_type": "stream",
     "text": [
      "(100, 6)\n"
     ]
    },
    {
     "data": {
      "text/html": [
       "<div>\n",
       "<style scoped>\n",
       "    .dataframe tbody tr th:only-of-type {\n",
       "        vertical-align: middle;\n",
       "    }\n",
       "\n",
       "    .dataframe tbody tr th {\n",
       "        vertical-align: top;\n",
       "    }\n",
       "\n",
       "    .dataframe thead th {\n",
       "        text-align: right;\n",
       "    }\n",
       "</style>\n",
       "<table border=\"1\" class=\"dataframe\">\n",
       "  <thead>\n",
       "    <tr style=\"text-align: right;\">\n",
       "      <th></th>\n",
       "      <th>content</th>\n",
       "      <th>date_article</th>\n",
       "      <th>lien_article</th>\n",
       "      <th>related_subject</th>\n",
       "      <th>related_subject_links</th>\n",
       "      <th>titre_article</th>\n",
       "    </tr>\n",
       "  </thead>\n",
       "  <tbody>\n",
       "    <tr>\n",
       "      <th>0</th>\n",
       "      <td>La 28e édition du challenge international d'es...</td>\n",
       "      <td>6 Février 2020</td>\n",
       "      <td>/fr/content/28e-edition-du-challenge-descrime-...</td>\n",
       "      <td>[Campus]</td>\n",
       "      <td>[/fr/type/campus]</td>\n",
       "      <td>28e édition du challenge d'escrime X-Systra</td>\n",
       "    </tr>\n",
       "    <tr>\n",
       "      <th>1</th>\n",
       "      <td>L’École polytechnique est le 1er établissement...</td>\n",
       "      <td>30 Janvier 2020</td>\n",
       "      <td>/fr/content/lx-la-plus-internationale-des-univ...</td>\n",
       "      <td>[Classement]</td>\n",
       "      <td>[/fr/classement]</td>\n",
       "      <td>L’X, la plus internationale des universités fr...</td>\n",
       "    </tr>\n",
       "    <tr>\n",
       "      <th>2</th>\n",
       "      <td>Les priorités de l’X pour 2020 s’inscrivent da...</td>\n",
       "      <td>28 Janvier 2020</td>\n",
       "      <td>/fr/content/lecole-polytechnique-fixe-ses-prio...</td>\n",
       "      <td>[Institutionnel, Campus]</td>\n",
       "      <td>[/fr/type/institutionnel, /fr/type/campus]</td>\n",
       "      <td>L’École polytechnique fixe ses priorités pour ...</td>\n",
       "    </tr>\n",
       "    <tr>\n",
       "      <th>3</th>\n",
       "      <td>Le 14 février 2020, l’X célèbre les 35 ans de ...</td>\n",
       "      <td>28 Janvier 2020</td>\n",
       "      <td>/fr/content/lamplification-laser-35-ans-apres-...</td>\n",
       "      <td>[Recherche, Conference]</td>\n",
       "      <td>[/fr/les-actualites-de-la-recherche, /fr/confe...</td>\n",
       "      <td>L’amplification laser : 35 ans après, des pote...</td>\n",
       "    </tr>\n",
       "    <tr>\n",
       "      <th>4</th>\n",
       "      <td>Deux équipes de trois élèves de l’X sont arriv...</td>\n",
       "      <td>27 Janvier 2020</td>\n",
       "      <td>/fr/content/lx-remporte-pour-la-premiere-fois-...</td>\n",
       "      <td>[Campus, Prix]</td>\n",
       "      <td>[/fr/type/campus, /fr/prix-et-distinctions]</td>\n",
       "      <td>L’X remporte pour la première fois le concours...</td>\n",
       "    </tr>\n",
       "  </tbody>\n",
       "</table>\n",
       "</div>"
      ],
      "text/plain": [
       "                                             content     date_article  \\\n",
       "0  La 28e édition du challenge international d'es...   6 Février 2020   \n",
       "1  L’École polytechnique est le 1er établissement...  30 Janvier 2020   \n",
       "2  Les priorités de l’X pour 2020 s’inscrivent da...  28 Janvier 2020   \n",
       "3  Le 14 février 2020, l’X célèbre les 35 ans de ...  28 Janvier 2020   \n",
       "4  Deux équipes de trois élèves de l’X sont arriv...  27 Janvier 2020   \n",
       "\n",
       "                                        lien_article  \\\n",
       "0  /fr/content/28e-edition-du-challenge-descrime-...   \n",
       "1  /fr/content/lx-la-plus-internationale-des-univ...   \n",
       "2  /fr/content/lecole-polytechnique-fixe-ses-prio...   \n",
       "3  /fr/content/lamplification-laser-35-ans-apres-...   \n",
       "4  /fr/content/lx-remporte-pour-la-premiere-fois-...   \n",
       "\n",
       "            related_subject  \\\n",
       "0                  [Campus]   \n",
       "1              [Classement]   \n",
       "2  [Institutionnel, Campus]   \n",
       "3   [Recherche, Conference]   \n",
       "4            [Campus, Prix]   \n",
       "\n",
       "                               related_subject_links  \\\n",
       "0                                  [/fr/type/campus]   \n",
       "1                                   [/fr/classement]   \n",
       "2         [/fr/type/institutionnel, /fr/type/campus]   \n",
       "3  [/fr/les-actualites-de-la-recherche, /fr/confe...   \n",
       "4        [/fr/type/campus, /fr/prix-et-distinctions]   \n",
       "\n",
       "                                       titre_article  \n",
       "0        28e édition du challenge d'escrime X-Systra  \n",
       "1  L’X, la plus internationale des universités fr...  \n",
       "2  L’École polytechnique fixe ses priorités pour ...  \n",
       "3  L’amplification laser : 35 ans après, des pote...  \n",
       "4  L’X remporte pour la première fois le concours...  "
      ]
     },
     "execution_count": 4,
     "metadata": {},
     "output_type": "execute_result"
    }
   ],
   "source": [
    "# Having a brief look at data\n",
    "print(df.shape)\n",
    "\n",
    "df.head()"
   ]
  },
  {
   "cell_type": "markdown",
   "metadata": {},
   "source": [
    "#### Brief analysis of scrapped data"
   ]
  },
  {
   "cell_type": "markdown",
   "metadata": {},
   "source": [
    "__Seeing the most frequent mentions__"
   ]
  },
  {
   "cell_type": "code",
   "execution_count": 5,
   "metadata": {
    "ExecuteTime": {
     "end_time": "2020-02-04T15:00:09.229634Z",
     "start_time": "2020-02-04T15:00:09.217157Z"
    }
   },
   "outputs": [
    {
     "data": {
      "text/plain": [
       "Recherche          54\n",
       "Campus             18\n",
       "Formation          17\n",
       "Prix               12\n",
       "Entrepreneuriat    11\n",
       "dtype: int64"
      ]
     },
     "execution_count": 5,
     "metadata": {},
     "output_type": "execute_result"
    }
   ],
   "source": [
    "related_subjects = []\n",
    "for subjects in df['related_subject'].tolist():\n",
    "    related_subjects += subjects     \n",
    "pd.Series(related_subjects).value_counts().head()"
   ]
  },
  {
   "cell_type": "markdown",
   "metadata": {},
   "source": [
    "__Counting the number of publications through times__"
   ]
  },
  {
   "cell_type": "code",
   "execution_count": 6,
   "metadata": {
    "ExecuteTime": {
     "end_time": "2020-02-04T15:00:09.603501Z",
     "start_time": "2020-02-04T15:00:09.597376Z"
    }
   },
   "outputs": [],
   "source": [
    "def translate_month(x):\n",
    "    translate_dict = {\n",
    "        'Janvier':'january',\n",
    "        'Février':'february',\n",
    "        'Mars':'march',\n",
    "        'Avril':'april',\n",
    "        'Mai':'may',\n",
    "        'Juin':'june',\n",
    "        'Juillet':'july',\n",
    "        'Aout':'august',\n",
    "        'Septembre':'september',\n",
    "        'Octobre':'october',\n",
    "        'Novembre':'november',\n",
    "        'Décembre':'december'}\n",
    "    for french, english in translate_dict.items():\n",
    "        x = x.replace(french, english)\n",
    "    return x"
   ]
  },
  {
   "cell_type": "code",
   "execution_count": 7,
   "metadata": {
    "ExecuteTime": {
     "end_time": "2020-02-04T15:00:10.463213Z",
     "start_time": "2020-02-04T15:00:09.827946Z"
    }
   },
   "outputs": [
    {
     "data": {
      "image/png": "[encoded data removed]",
      "text/plain": [
       "<Figure size 1440x504 with 1 Axes>"
      ]
     },
     "metadata": {
      "needs_background": "light"
     },
     "output_type": "display_data"
    }
   ],
   "source": [
    "# Transforming French date into English date so that pandas understands it as a date\n",
    "df['date'] = df['date_article'].apply(translate_month)\n",
    "\n",
    "# Preparing for plotting\n",
    "tmp = pd.to_datetime(df['date'], errors='coerce').value_counts()\n",
    "\n",
    "# Realizing plotting\n",
    "_ = plt.figure(figsize=(20,7))\n",
    "_ = tmp.plot(marker='o', linewidth=0.1)\n",
    "_ = plt.show()"
   ]
  },
  {
   "cell_type": "markdown",
   "metadata": {},
   "source": [
    "### Project: scrapping TripAdvisor"
   ]
  },
  {
   "cell_type": "markdown",
   "metadata": {},
   "source": [
    "#### Discovering TripAdvisor"
   ]
  },
  {
   "cell_type": "markdown",
   "metadata": {},
   "source": [
    "Here is how we will proceed before building our spider:\n",
    "- Open a review page and check how to parse it\n",
    "- Open a restaurant page and check how to get reviews urls\n",
    "- Open a restaurant page and check how to get to next page of reviews\n",
    "- Open a city page and check how to get restaurant urls\n",
    "- Open a city page and check how to get the net page of restaurants\n",
    "- Try to put it altogether"
   ]
  },
  {
   "cell_type": "code",
   "execution_count": 1,
   "metadata": {},
   "outputs": [],
   "source": [
    "# To begin with, 3 urls types\n",
    "example_url_city = 'https://www.tripadvisor.co.uk/Restaurants-g187147-Paris_Ile_de_France.html'\n",
    "example_url_restaurant = 'https://www.tripadvisor.co.uk/Restaurant_Review-g187147-d9806534-Reviews-ASPIC-Paris_Ile_de_France.html'\n",
    "example_url_review = 'https://www.tripadvisor.co.uk/ShowUserReviews-g187147-d9806534-r731227577-ASPIC-Paris_Ile_de_France.html'"
   ]
  },
  {
   "cell_type": "markdown",
   "metadata": {},
   "source": [
    "#### Preparing selectors in spider perspective"
   ]
  },
  {
   "cell_type": "markdown",
   "metadata": {},
   "source": [
    "**Parsing restaurant list**"
   ]
  },
  {
   "cell_type": "code",
   "execution_count": 8,
   "metadata": {},
   "outputs": [
    {
     "name": "stdout",
     "output_type": "stream",
     "text": [
      "['/Restaurant_Review-g1646066-d13110428-Reviews-Kulcha_Express-Southall_Ealing_Greater_London_England.html', '/Restaurant_Review-g191260-d5999531-Reviews-Madhu_s_Heathrow-Hayes_Greater_London_England.html', '/Restaurant_Review-g528819-d10490489-Reviews-Umi-Twickenham_Greater_London_England.html', '/Restaurant_Review-g2549055-d6522688-Reviews-Rendez_Vous_Caffe-Beckenham_Greater_London_England.html', '/Restaurant_Review-g1646049-d12460152-Reviews-Ottimmo_Bao_Bao-Uxbridge_Greater_London_England.html', '/Restaurant_Review-g528818-d2306043-Reviews-La_Dolce_Vita-Teddington_Richmond_upon_Thames_Greater_London_England.html', '/Restaurant_Review-g1646063-d13428223-Reviews-ITJL-Edgware_Greater_London_England.html', '/Restaurant_Review-g186338-d12569115-Reviews-Wild_Thyme-London_England.html', '/Restaurant_Review-g1934185-d15563947-Reviews-The_Orpington-Orpington_Bromley_Greater_London_England.html', '/Restaurant_Review-g528820-d14766084-Reviews-Taste_Of_Peshawar-Wembley_Greater_London_England.html', '/Restaurant_Review-g186338-d10519837-Reviews-The_Lounge_Cafe-London_England.html', '/Restaurant_Review-g528818-d4554708-Reviews-Sidra-Teddington_Richmond_upon_Thames_Greater_London_England.html', '/Restaurant_Review-g528813-d13314661-Reviews-MOMO_ROTI-Hounslow_Greater_London_England.html', '/Restaurant_Review-g1752250-d1935808-Reviews-The_French_Table-Surbiton_Kingston_upon_Thames_Greater_London_England.html', '/Restaurant_Review-g504169-d10292747-Reviews-Mezzet_Lebanese_Restaurant-East_Molesey_Molesey_Surrey_England.html', '/Restaurant_Review-g1635501-d11777389-Reviews-Sweet_Rose_Cakery-Upminster_Greater_London_England.html', '/Restaurant_Review-g191301-d12911877-Reviews-La_Plata_Steakhouse-Richmond_upon_Thames_Greater_London_England.html', '/Restaurant_Review-g186338-d13915112-Reviews-Oliveira_Organic_Vegetarian_Kitchen-London_England.html', '/Restaurant_Review-g191301-d4453079-Reviews-Revolution-Richmond_upon_Thames_Greater_London_England.html', '/Restaurant_Review-g2536732-d14976947-Reviews-4_Locos_Argentine_Steakhouse-Purley_Greater_London_England.html', '/Restaurant_Review-g186338-d7290752-Reviews-L_oro_di_Napoli-London_England.html', '/Restaurant_Review-g580418-d1168654-Reviews-Masa_Restaurant-Harrow_Greater_London_England.html', '/Restaurant_Review-g504167-d2620286-Reviews-Ponte_Nuovo-Croydon_Greater_London_England.html', '/Restaurant_Review-g504169-d7221903-Reviews-Mezzet_Dar-East_Molesey_Molesey_Surrey_England.html', '/Restaurant_Review-g1752250-d13374090-Reviews-Doosra-Surbiton_Kingston_upon_Thames_Greater_London_England.html', '/Restaurant_Review-g504169-d19092676-Reviews-Indian_Panorama_Restaurant-East_Molesey_Molesey_Surrey_England.html', '/Restaurant_Review-g190796-d4072239-Reviews-Tony_Parkin_at_The_Tudor_Room-Egham_Surrey_England.html', '/Restaurant_Review-g504182-d2172614-Reviews-The_Clink_Restaurant-Sutton_Greater_London_England.html', '/Restaurant_Review-g673605-d12322333-Reviews-Namaste_Gurkha-Feltham_Hounslow_Greater_London_England.html', '/Restaurant_Review-g1076982-d4240870-Reviews-Melucci_s-Bexley_Greater_London_England.html', '/Restaurant_Review-g186338-d3490463-Reviews-Awesome_Thai-London_England.html', '/Restaurant_Review-g186338-d7808892-Reviews-Lentil-London_England.html']\n"
     ]
    }
   ],
   "source": [
    "# This code gives the urls of alle the restaurants (the one given by capgemini doesn't work. They don't have the right adresses)\n",
    "url = 'https://www.tripadvisor.co.uk/Restaurants-g191259-Greater_London_England.html'\n",
    "html = requests.get(url).content\n",
    "sel = Selector(text=html)\n",
    "rep = sel.css('div.wQjYiB7z > span > a ::attr(href)').extract()\n",
    "print(rep)\n",
    "restaurants_urls = rep"
   ]
  },
  {
   "cell_type": "code",
   "execution_count": 9,
   "metadata": {},
   "outputs": [],
   "source": [
    "# This function will clean the given list of restaurants: \n",
    "\n",
    "def cleaning_list_of_restaurants(L):\n",
    "    T=[]\n",
    "    Answer = []\n",
    "    test = True\n",
    "    for i in range(1,31):\n",
    "        T.append(str(i))\n",
    "    T.append('. ')\n",
    "    for j in range(len(L)):\n",
    "        for i in range(len(T)):\n",
    "            if L[j] == T[i]:\n",
    "                test = False\n",
    "        if test == True:\n",
    "            Answer.append(L[j])\n",
    "        test = True\n",
    "    return(Answer)"
   ]
  },
  {
   "cell_type": "code",
   "execution_count": 10,
   "metadata": {},
   "outputs": [
    {
     "data": {
      "text/plain": [
       "['Sipson Tandoori Indian Restaurant',\n",
       " 'Karahi Junction',\n",
       " 'Umi',\n",
       " 'Rendez Vous Caffe',\n",
       " 'Ottimmo Bao Bao',\n",
       " 'La Dolce Vita',\n",
       " 'ITJL',\n",
       " 'Wild Thyme',\n",
       " 'the Orpington',\n",
       " 'Taste Of Peshawar',\n",
       " 'The Lounge Cafe',\n",
       " 'Sidra',\n",
       " 'MOMO & ROTI',\n",
       " 'The French Table',\n",
       " 'Mezzet Lebanese Restaurant',\n",
       " 'Sweet Rose Cakery',\n",
       " 'La Plata Steakhouse',\n",
       " 'Oliveira Organic Vegetarian Kitchen',\n",
       " 'Revolution',\n",
       " '4 Locos Argentine Steakhouse',\n",
       " \"L'oro di Napoli\",\n",
       " 'Masa Restaurant',\n",
       " 'Ponte Nuovo',\n",
       " 'Mezzet Dar',\n",
       " 'Doosra',\n",
       " 'Indian Panorama Restaurant',\n",
       " 'Tony Parkin at The Tudor Room',\n",
       " 'The Clink Restaurant',\n",
       " 'Namaste Gurkha',\n",
       " \"Melucci's\",\n",
       " 'Awesome Thai',\n",
       " 'Lentil']"
      ]
     },
     "execution_count": 10,
     "metadata": {},
     "output_type": "execute_result"
    }
   ],
   "source": [
    "# We extract the list of restaurants\n",
    "# Note that we were able to extract 4 Locos Argentine Steakhouse even if it starts with a number\n",
    "url = 'https://www.tripadvisor.co.uk/Restaurants-g191259-Greater_London_England.html'\n",
    "html = requests.get(url).content\n",
    "sel = Selector(text=html)\n",
    "rep = sel.css('div.wQjYiB7z > span > a ::text').extract()\n",
    "list_of_restaurants = cleaning_list_of_restaurants(rep)\n",
    "list_of_restaurants "
   ]
  },
  {
   "cell_type": "markdown",
   "metadata": {},
   "source": [
    "**Parsing restaurant page**"
   ]
  },
  {
   "cell_type": "code",
   "execution_count": 11,
   "metadata": {},
   "outputs": [
    {
     "name": "stdout",
     "output_type": "stream",
     "text": [
      "['/ShowUserReviews-g528819-d10490489-r740096520-Umi-Twickenham_Greater_London_England.html', '/ShowUserReviews-g528819-d10490489-r739986559-Umi-Twickenham_Greater_London_England.html', '/ShowUserReviews-g528819-d10490489-r736769770-Umi-Twickenham_Greater_London_England.html', '/ShowUserReviews-g528819-d10490489-r735526111-Umi-Twickenham_Greater_London_England.html', '/ShowUserReviews-g528819-d10490489-r735308864-Umi-Twickenham_Greater_London_England.html', '/ShowUserReviews-g528819-d10490489-r734126059-Umi-Twickenham_Greater_London_England.html', '/ShowUserReviews-g528819-d10490489-r732038606-Umi-Twickenham_Greater_London_England.html', '/ShowUserReviews-g528819-d10490489-r731886968-Umi-Twickenham_Greater_London_England.html', '/ShowUserReviews-g528819-d10490489-r729671967-Umi-Twickenham_Greater_London_England.html', '/ShowUserReviews-g528819-d10490489-r728429794-Umi-Twickenham_Greater_London_England.html']\n"
     ]
    }
   ],
   "source": [
    "# This code gives the urls of alle the reviews of a given restaurant (I start with Umi for the example)\n",
    "url = 'https://www.tripadvisor.co.uk/Restaurant_Review-g528819-d10490489-Reviews-Umi-Twickenham_Greater_London_England.html'\n",
    "html = requests.get(url).content\n",
    "sel = Selector(text=html)\n",
    "rep = sel.css('div.quote > a ::attr(href)').extract()\n",
    "print(rep)\n",
    "reviews_urls = rep"
   ]
  },
  {
   "cell_type": "code",
   "execution_count": 12,
   "metadata": {},
   "outputs": [
    {
     "name": "stdout",
     "output_type": "stream",
     "text": [
      "['/ShowUserReviews-g1646066-d13110428-r743379985-Kulcha_Express-Southall_Ealing_Greater_London_England.html', '/ShowUserReviews-g1646066-d13110428-r742409066-Kulcha_Express-Southall_Ealing_Greater_London_England.html', '/ShowUserReviews-g1646066-d13110428-r736099989-Kulcha_Express-Southall_Ealing_Greater_London_England.html', '/ShowUserReviews-g1646066-d13110428-r733091165-Kulcha_Express-Southall_Ealing_Greater_London_England.html', '/ShowUserReviews-g1646066-d13110428-r728396617-Kulcha_Express-Southall_Ealing_Greater_London_England.html', '/ShowUserReviews-g1646066-d13110428-r703904333-Kulcha_Express-Southall_Ealing_Greater_London_England.html', '/ShowUserReviews-g1646066-d13110428-r700996000-Kulcha_Express-Southall_Ealing_Greater_London_England.html', '/ShowUserReviews-g1646066-d13110428-r693169979-Kulcha_Express-Southall_Ealing_Greater_London_England.html', '/ShowUserReviews-g1646066-d13110428-r687767334-Kulcha_Express-Southall_Ealing_Greater_London_England.html', '/ShowUserReviews-g1646066-d13110428-r667615067-Kulcha_Express-Southall_Ealing_Greater_London_England.html']\n",
      "['/ShowUserReviews-g191260-d5999531-r742562894-Madhu_s_Heathrow-Hayes_Greater_London_England.html', '/ShowUserReviews-g191260-d5999531-r651548900-Madhu_s_Heathrow-Hayes_Greater_London_England.html', '/ShowUserReviews-g191260-d5999531-r741427494-Madhu_s_Heathrow-Hayes_Greater_London_England.html', '/ShowUserReviews-g191260-d5999531-r740954895-Madhu_s_Heathrow-Hayes_Greater_London_England.html', '/ShowUserReviews-g191260-d5999531-r739842697-Madhu_s_Heathrow-Hayes_Greater_London_England.html', '/ShowUserReviews-g191260-d5999531-r735690934-Madhu_s_Heathrow-Hayes_Greater_London_England.html', '/ShowUserReviews-g191260-d5999531-r734062474-Madhu_s_Heathrow-Hayes_Greater_London_England.html', '/ShowUserReviews-g191260-d5999531-r733736091-Madhu_s_Heathrow-Hayes_Greater_London_England.html', '/ShowUserReviews-g191260-d5999531-r733716081-Madhu_s_Heathrow-Hayes_Greater_London_England.html', '/ShowUserReviews-g191260-d5999531-r732902862-Madhu_s_Heathrow-Hayes_Greater_London_England.html']\n",
      "['/ShowUserReviews-g528819-d10490489-r740096520-Umi-Twickenham_Greater_London_England.html', '/ShowUserReviews-g528819-d10490489-r739986559-Umi-Twickenham_Greater_London_England.html', '/ShowUserReviews-g528819-d10490489-r736769770-Umi-Twickenham_Greater_London_England.html', '/ShowUserReviews-g528819-d10490489-r735526111-Umi-Twickenham_Greater_London_England.html', '/ShowUserReviews-g528819-d10490489-r735308864-Umi-Twickenham_Greater_London_England.html', '/ShowUserReviews-g528819-d10490489-r734126059-Umi-Twickenham_Greater_London_England.html', '/ShowUserReviews-g528819-d10490489-r732038606-Umi-Twickenham_Greater_London_England.html', '/ShowUserReviews-g528819-d10490489-r731886968-Umi-Twickenham_Greater_London_England.html', '/ShowUserReviews-g528819-d10490489-r729671967-Umi-Twickenham_Greater_London_England.html', '/ShowUserReviews-g528819-d10490489-r728429794-Umi-Twickenham_Greater_London_England.html']\n",
      "['/ShowUserReviews-g2549055-d6522688-r742949311-Rendez_Vous_Caffe-Beckenham_Greater_London_England.html', '/ShowUserReviews-g2549055-d6522688-r737287369-Rendez_Vous_Caffe-Beckenham_Greater_London_England.html', '/ShowUserReviews-g2549055-d6522688-r737001995-Rendez_Vous_Caffe-Beckenham_Greater_London_England.html', '/ShowUserReviews-g2549055-d6522688-r736756453-Rendez_Vous_Caffe-Beckenham_Greater_London_England.html', '/ShowUserReviews-g2549055-d6522688-r736303599-Rendez_Vous_Caffe-Beckenham_Greater_London_England.html', '/ShowUserReviews-g2549055-d6522688-r735256948-Rendez_Vous_Caffe-Beckenham_Greater_London_England.html', '/ShowUserReviews-g2549055-d6522688-r734354196-Rendez_Vous_Caffe-Beckenham_Greater_London_England.html', '/ShowUserReviews-g2549055-d6522688-r733933683-Rendez_Vous_Caffe-Beckenham_Greater_London_England.html', '/ShowUserReviews-g2549055-d6522688-r733891454-Rendez_Vous_Caffe-Beckenham_Greater_London_England.html', '/ShowUserReviews-g2549055-d6522688-r733787534-Rendez_Vous_Caffe-Beckenham_Greater_London_England.html']\n",
      "['/ShowUserReviews-g1646049-d12460152-r742563103-Ottimmo_Bao_Bao-Uxbridge_Greater_London_England.html', '/ShowUserReviews-g1646049-d12460152-r740005093-Ottimmo_Bao_Bao-Uxbridge_Greater_London_England.html', '/ShowUserReviews-g1646049-d12460152-r737855617-Ottimmo_Bao_Bao-Uxbridge_Greater_London_England.html', '/ShowUserReviews-g1646049-d12460152-r734262586-Ottimmo_Bao_Bao-Uxbridge_Greater_London_England.html', '/ShowUserReviews-g1646049-d12460152-r729103103-Ottimmo_Bao_Bao-Uxbridge_Greater_London_England.html', '/ShowUserReviews-g1646049-d12460152-r724341078-Ottimmo_Bao_Bao-Uxbridge_Greater_London_England.html', '/ShowUserReviews-g1646049-d12460152-r723072736-Ottimmo_Bao_Bao-Uxbridge_Greater_London_England.html', '/ShowUserReviews-g1646049-d12460152-r718225536-Ottimmo_Bao_Bao-Uxbridge_Greater_London_England.html', '/ShowUserReviews-g1646049-d12460152-r713659130-Ottimmo_Bao_Bao-Uxbridge_Greater_London_England.html', '/ShowUserReviews-g1646049-d12460152-r713211970-Ottimmo_Bao_Bao-Uxbridge_Greater_London_England.html']\n",
      "['/ShowUserReviews-g528818-d2306043-r743192877-La_Dolce_Vita-Teddington_Richmond_upon_Thames_Greater_London_England.html', '/ShowUserReviews-g528818-d2306043-r742633174-La_Dolce_Vita-Teddington_Richmond_upon_Thames_Greater_London_England.html', '/ShowUserReviews-g528818-d2306043-r741722397-La_Dolce_Vita-Teddington_Richmond_upon_Thames_Greater_London_England.html', '/ShowUserReviews-g528818-d2306043-r741105315-La_Dolce_Vita-Teddington_Richmond_upon_Thames_Greater_London_England.html', '/ShowUserReviews-g528818-d2306043-r740219674-La_Dolce_Vita-Teddington_Richmond_upon_Thames_Greater_London_England.html', '/ShowUserReviews-g528818-d2306043-r739859978-La_Dolce_Vita-Teddington_Richmond_upon_Thames_Greater_London_England.html', '/ShowUserReviews-g528818-d2306043-r739253095-La_Dolce_Vita-Teddington_Richmond_upon_Thames_Greater_London_England.html', '/ShowUserReviews-g528818-d2306043-r738142492-La_Dolce_Vita-Teddington_Richmond_upon_Thames_Greater_London_England.html', '/ShowUserReviews-g528818-d2306043-r737560471-La_Dolce_Vita-Teddington_Richmond_upon_Thames_Greater_London_England.html', '/ShowUserReviews-g528818-d2306043-r737312217-La_Dolce_Vita-Teddington_Richmond_upon_Thames_Greater_London_England.html']\n",
      "['/ShowUserReviews-g1646063-d13428223-r742546853-ITJL-Edgware_Greater_London_England.html', '/ShowUserReviews-g1646063-d13428223-r742471733-ITJL-Edgware_Greater_London_England.html', '/ShowUserReviews-g1646063-d13428223-r742456163-ITJL-Edgware_Greater_London_England.html', '/ShowUserReviews-g1646063-d13428223-r742406486-ITJL-Edgware_Greater_London_England.html', '/ShowUserReviews-g1646063-d13428223-r741804414-ITJL-Edgware_Greater_London_England.html', '/ShowUserReviews-g1646063-d13428223-r741266348-ITJL-Edgware_Greater_London_England.html', '/ShowUserReviews-g1646063-d13428223-r740197900-ITJL-Edgware_Greater_London_England.html', '/ShowUserReviews-g1646063-d13428223-r739987326-ITJL-Edgware_Greater_London_England.html', '/ShowUserReviews-g1646063-d13428223-r738623426-ITJL-Edgware_Greater_London_England.html', '/ShowUserReviews-g1646063-d13428223-r738502003-ITJL-Edgware_Greater_London_England.html']\n",
      "['/ShowUserReviews-g186338-d12569115-r741711709-Wild_Thyme-London_England.html', '/ShowUserReviews-g186338-d12569115-r741271989-Wild_Thyme-London_England.html', '/ShowUserReviews-g186338-d12569115-r740961112-Wild_Thyme-London_England.html', '/ShowUserReviews-g186338-d12569115-r740773432-Wild_Thyme-London_England.html', '/ShowUserReviews-g186338-d12569115-r740246483-Wild_Thyme-London_England.html', '/ShowUserReviews-g186338-d12569115-r739878526-Wild_Thyme-London_England.html', '/ShowUserReviews-g186338-d12569115-r737063700-Wild_Thyme-London_England.html', '/ShowUserReviews-g186338-d12569115-r734617304-Wild_Thyme-London_England.html', '/ShowUserReviews-g186338-d12569115-r733583784-Wild_Thyme-London_England.html', '/ShowUserReviews-g186338-d12569115-r733412190-Wild_Thyme-London_England.html']\n",
      "['/ShowUserReviews-g1934185-d15563947-r743007003-The_Orpington-Orpington_Bromley_Greater_London_England.html', '/ShowUserReviews-g1934185-d15563947-r741191824-The_Orpington-Orpington_Bromley_Greater_London_England.html', '/ShowUserReviews-g1934185-d15563947-r741181119-The_Orpington-Orpington_Bromley_Greater_London_England.html', '/ShowUserReviews-g1934185-d15563947-r741018377-The_Orpington-Orpington_Bromley_Greater_London_England.html', '/ShowUserReviews-g1934185-d15563947-r740154722-The_Orpington-Orpington_Bromley_Greater_London_England.html', '/ShowUserReviews-g1934185-d15563947-r740038978-The_Orpington-Orpington_Bromley_Greater_London_England.html', '/ShowUserReviews-g1934185-d15563947-r738444719-The_Orpington-Orpington_Bromley_Greater_London_England.html', '/ShowUserReviews-g1934185-d15563947-r737760755-The_Orpington-Orpington_Bromley_Greater_London_England.html', '/ShowUserReviews-g1934185-d15563947-r736309549-The_Orpington-Orpington_Bromley_Greater_London_England.html', '/ShowUserReviews-g1934185-d15563947-r734344783-The_Orpington-Orpington_Bromley_Greater_London_England.html']\n"
     ]
    },
    {
     "name": "stdout",
     "output_type": "stream",
     "text": [
      "['/ShowUserReviews-g528820-d14766084-r742593802-Taste_Of_Peshawar-Wembley_Greater_London_England.html', '/ShowUserReviews-g528820-d14766084-r741628177-Taste_Of_Peshawar-Wembley_Greater_London_England.html', '/ShowUserReviews-g528820-d14766084-r740869690-Taste_Of_Peshawar-Wembley_Greater_London_England.html', '/ShowUserReviews-g528820-d14766084-r740866237-Taste_Of_Peshawar-Wembley_Greater_London_England.html', '/ShowUserReviews-g528820-d14766084-r740313815-Taste_Of_Peshawar-Wembley_Greater_London_England.html', '/ShowUserReviews-g528820-d14766084-r739171044-Taste_Of_Peshawar-Wembley_Greater_London_England.html', '/ShowUserReviews-g528820-d14766084-r738627351-Taste_Of_Peshawar-Wembley_Greater_London_England.html', '/ShowUserReviews-g528820-d14766084-r737684456-Taste_Of_Peshawar-Wembley_Greater_London_England.html', '/ShowUserReviews-g528820-d14766084-r736864342-Taste_Of_Peshawar-Wembley_Greater_London_England.html', '/ShowUserReviews-g528820-d14766084-r736119057-Taste_Of_Peshawar-Wembley_Greater_London_England.html']\n",
      "['/ShowUserReviews-g186338-d10519837-r741193122-The_Lounge_Cafe-London_England.html', '/ShowUserReviews-g186338-d10519837-r740919528-The_Lounge_Cafe-London_England.html', '/ShowUserReviews-g186338-d10519837-r740287329-The_Lounge_Cafe-London_England.html', '/ShowUserReviews-g186338-d10519837-r740242310-The_Lounge_Cafe-London_England.html', '/ShowUserReviews-g186338-d10519837-r739584014-The_Lounge_Cafe-London_England.html', '/ShowUserReviews-g186338-d10519837-r739505197-The_Lounge_Cafe-London_England.html', '/ShowUserReviews-g186338-d10519837-r738324403-The_Lounge_Cafe-London_England.html', '/ShowUserReviews-g186338-d10519837-r736760091-The_Lounge_Cafe-London_England.html', '/ShowUserReviews-g186338-d10519837-r733287205-The_Lounge_Cafe-London_England.html', '/ShowUserReviews-g186338-d10519837-r729661583-The_Lounge_Cafe-London_England.html']\n",
      "['/ShowUserReviews-g528818-d4554708-r742999239-Sidra-Teddington_Richmond_upon_Thames_Greater_London_England.html', '/ShowUserReviews-g528818-d4554708-r741252472-Sidra-Teddington_Richmond_upon_Thames_Greater_London_England.html', '/ShowUserReviews-g528818-d4554708-r740005541-Sidra-Teddington_Richmond_upon_Thames_Greater_London_England.html', '/ShowUserReviews-g528818-d4554708-r738026372-Sidra-Teddington_Richmond_upon_Thames_Greater_London_England.html', '/ShowUserReviews-g528818-d4554708-r736267803-Sidra-Teddington_Richmond_upon_Thames_Greater_London_England.html', '/ShowUserReviews-g528818-d4554708-r734090842-Sidra-Teddington_Richmond_upon_Thames_Greater_London_England.html', '/ShowUserReviews-g528818-d4554708-r728203800-Sidra-Teddington_Richmond_upon_Thames_Greater_London_England.html', '/ShowUserReviews-g528818-d4554708-r719325614-Sidra-Teddington_Richmond_upon_Thames_Greater_London_England.html', '/ShowUserReviews-g528818-d4554708-r715845963-Sidra-Teddington_Richmond_upon_Thames_Greater_London_England.html', '/ShowUserReviews-g528818-d4554708-r709466058-Sidra-Teddington_Richmond_upon_Thames_Greater_London_England.html']\n",
      "['/ShowUserReviews-g528813-d13314661-r742269782-MOMO_ROTI-Hounslow_Greater_London_England.html', '/ShowUserReviews-g528813-d13314661-r741020814-MOMO_ROTI-Hounslow_Greater_London_England.html', '/ShowUserReviews-g528813-d13314661-r741003654-MOMO_ROTI-Hounslow_Greater_London_England.html', '/ShowUserReviews-g528813-d13314661-r735084583-MOMO_ROTI-Hounslow_Greater_London_England.html', '/ShowUserReviews-g528813-d13314661-r729873215-MOMO_ROTI-Hounslow_Greater_London_England.html', '/ShowUserReviews-g528813-d13314661-r729068391-MOMO_ROTI-Hounslow_Greater_London_England.html', '/ShowUserReviews-g528813-d13314661-r727995112-MOMO_ROTI-Hounslow_Greater_London_England.html', '/ShowUserReviews-g528813-d13314661-r724781878-MOMO_ROTI-Hounslow_Greater_London_England.html', '/ShowUserReviews-g528813-d13314661-r724351348-MOMO_ROTI-Hounslow_Greater_London_England.html', '/ShowUserReviews-g528813-d13314661-r723129018-MOMO_ROTI-Hounslow_Greater_London_England.html']\n",
      "['/ShowUserReviews-g1752250-d1935808-r742760466-The_French_Table-Surbiton_Kingston_upon_Thames_Greater_London_England.html', '/ShowUserReviews-g1752250-d1935808-r742745371-The_French_Table-Surbiton_Kingston_upon_Thames_Greater_London_England.html', '/ShowUserReviews-g1752250-d1935808-r738637104-The_French_Table-Surbiton_Kingston_upon_Thames_Greater_London_England.html', '/ShowUserReviews-g1752250-d1935808-r738059049-The_French_Table-Surbiton_Kingston_upon_Thames_Greater_London_England.html', '/ShowUserReviews-g1752250-d1935808-r737129502-The_French_Table-Surbiton_Kingston_upon_Thames_Greater_London_England.html', '/ShowUserReviews-g1752250-d1935808-r736310728-The_French_Table-Surbiton_Kingston_upon_Thames_Greater_London_England.html', '/ShowUserReviews-g1752250-d1935808-r735512909-The_French_Table-Surbiton_Kingston_upon_Thames_Greater_London_England.html', '/ShowUserReviews-g1752250-d1935808-r735396186-The_French_Table-Surbiton_Kingston_upon_Thames_Greater_London_England.html', '/ShowUserReviews-g1752250-d1935808-r733930317-The_French_Table-Surbiton_Kingston_upon_Thames_Greater_London_England.html', '/ShowUserReviews-g1752250-d1935808-r731617432-The_French_Table-Surbiton_Kingston_upon_Thames_Greater_London_England.html']\n",
      "['/ShowUserReviews-g504169-d10292747-r742384218-Mezzet_Lebanese_Restaurant-East_Molesey_Molesey_Surrey_England.html', '/ShowUserReviews-g504169-d10292747-r740568355-Mezzet_Lebanese_Restaurant-East_Molesey_Molesey_Surrey_England.html', '/ShowUserReviews-g504169-d10292747-r739962450-Mezzet_Lebanese_Restaurant-East_Molesey_Molesey_Surrey_England.html', '/ShowUserReviews-g504169-d10292747-r739951589-Mezzet_Lebanese_Restaurant-East_Molesey_Molesey_Surrey_England.html', '/ShowUserReviews-g504169-d10292747-r739685938-Mezzet_Lebanese_Restaurant-East_Molesey_Molesey_Surrey_England.html', '/ShowUserReviews-g504169-d10292747-r738642196-Mezzet_Lebanese_Restaurant-East_Molesey_Molesey_Surrey_England.html', '/ShowUserReviews-g504169-d10292747-r737911231-Mezzet_Lebanese_Restaurant-East_Molesey_Molesey_Surrey_England.html', '/ShowUserReviews-g504169-d10292747-r736643945-Mezzet_Lebanese_Restaurant-East_Molesey_Molesey_Surrey_England.html', '/ShowUserReviews-g504169-d10292747-r735121675-Mezzet_Lebanese_Restaurant-East_Molesey_Molesey_Surrey_England.html', '/ShowUserReviews-g504169-d10292747-r734348513-Mezzet_Lebanese_Restaurant-East_Molesey_Molesey_Surrey_England.html']\n",
      "['/ShowUserReviews-g1635501-d11777389-r743028494-Sweet_Rose_Cakery-Upminster_Greater_London_England.html', '/ShowUserReviews-g1635501-d11777389-r737327179-Sweet_Rose_Cakery-Upminster_Greater_London_England.html', '/ShowUserReviews-g1635501-d11777389-r730497868-Sweet_Rose_Cakery-Upminster_Greater_London_England.html', '/ShowUserReviews-g1635501-d11777389-r730497027-Sweet_Rose_Cakery-Upminster_Greater_London_England.html', '/ShowUserReviews-g1635501-d11777389-r730465595-Sweet_Rose_Cakery-Upminster_Greater_London_England.html', '/ShowUserReviews-g1635501-d11777389-r723701722-Sweet_Rose_Cakery-Upminster_Greater_London_England.html', '/ShowUserReviews-g1635501-d11777389-r720252934-Sweet_Rose_Cakery-Upminster_Greater_London_England.html', '/ShowUserReviews-g1635501-d11777389-r716081979-Sweet_Rose_Cakery-Upminster_Greater_London_England.html', '/ShowUserReviews-g1635501-d11777389-r715952649-Sweet_Rose_Cakery-Upminster_Greater_London_England.html', '/ShowUserReviews-g1635501-d11777389-r708650475-Sweet_Rose_Cakery-Upminster_Greater_London_England.html']\n",
      "['/ShowUserReviews-g191301-d12911877-r742644607-La_Plata_Steakhouse-Richmond_upon_Thames_Greater_London_England.html', '/ShowUserReviews-g191301-d12911877-r742291741-La_Plata_Steakhouse-Richmond_upon_Thames_Greater_London_England.html', '/ShowUserReviews-g191301-d12911877-r742290525-La_Plata_Steakhouse-Richmond_upon_Thames_Greater_London_England.html', '/ShowUserReviews-g191301-d12911877-r742195450-La_Plata_Steakhouse-Richmond_upon_Thames_Greater_London_England.html', '/ShowUserReviews-g191301-d12911877-r742135383-La_Plata_Steakhouse-Richmond_upon_Thames_Greater_London_England.html', '/ShowUserReviews-g191301-d12911877-r739820551-La_Plata_Steakhouse-Richmond_upon_Thames_Greater_London_England.html', '/ShowUserReviews-g191301-d12911877-r738493085-La_Plata_Steakhouse-Richmond_upon_Thames_Greater_London_England.html', '/ShowUserReviews-g191301-d12911877-r738085011-La_Plata_Steakhouse-Richmond_upon_Thames_Greater_London_England.html', '/ShowUserReviews-g191301-d12911877-r737601508-La_Plata_Steakhouse-Richmond_upon_Thames_Greater_London_England.html', '/ShowUserReviews-g191301-d12911877-r737289884-La_Plata_Steakhouse-Richmond_upon_Thames_Greater_London_England.html']\n"
     ]
    },
    {
     "name": "stdout",
     "output_type": "stream",
     "text": [
      "['/ShowUserReviews-g186338-d13915112-r743016310-Oliveira_Organic_Vegetarian_Kitchen-London_England.html', '/ShowUserReviews-g186338-d13915112-r741730523-Oliveira_Organic_Vegetarian_Kitchen-London_England.html', '/ShowUserReviews-g186338-d13915112-r738741407-Oliveira_Organic_Vegetarian_Kitchen-London_England.html', '/ShowUserReviews-g186338-d13915112-r738688971-Oliveira_Organic_Vegetarian_Kitchen-London_England.html', '/ShowUserReviews-g186338-d13915112-r736356900-Oliveira_Organic_Vegetarian_Kitchen-London_England.html', '/ShowUserReviews-g186338-d13915112-r733645461-Oliveira_Organic_Vegetarian_Kitchen-London_England.html', '/ShowUserReviews-g186338-d13915112-r732792368-Oliveira_Organic_Vegetarian_Kitchen-London_England.html', '/ShowUserReviews-g186338-d13915112-r731051548-Oliveira_Organic_Vegetarian_Kitchen-London_England.html', '/ShowUserReviews-g186338-d13915112-r730284856-Oliveira_Organic_Vegetarian_Kitchen-London_England.html', '/ShowUserReviews-g186338-d13915112-r729760152-Oliveira_Organic_Vegetarian_Kitchen-London_England.html']\n",
      "['/ShowUserReviews-g191301-d4453079-r742468539-Revolution-Richmond_upon_Thames_Greater_London_England.html', '/ShowUserReviews-g191301-d4453079-r742456107-Revolution-Richmond_upon_Thames_Greater_London_England.html', '/ShowUserReviews-g191301-d4453079-r742454847-Revolution-Richmond_upon_Thames_Greater_London_England.html', '/ShowUserReviews-g191301-d4453079-r742454284-Revolution-Richmond_upon_Thames_Greater_London_England.html', '/ShowUserReviews-g191301-d4453079-r742452653-Revolution-Richmond_upon_Thames_Greater_London_England.html', '/ShowUserReviews-g191301-d4453079-r742452505-Revolution-Richmond_upon_Thames_Greater_London_England.html', '/ShowUserReviews-g191301-d4453079-r742429594-Revolution-Richmond_upon_Thames_Greater_London_England.html', '/ShowUserReviews-g191301-d4453079-r742429553-Revolution-Richmond_upon_Thames_Greater_London_England.html', '/ShowUserReviews-g191301-d4453079-r742429542-Revolution-Richmond_upon_Thames_Greater_London_England.html', '/ShowUserReviews-g191301-d4453079-r742429538-Revolution-Richmond_upon_Thames_Greater_London_England.html']\n",
      "['/ShowUserReviews-g2536732-d14976947-r741289681-4_Locos_Argentine_Steakhouse-Purley_Greater_London_England.html', '/ShowUserReviews-g2536732-d14976947-r735599621-4_Locos_Argentine_Steakhouse-Purley_Greater_London_England.html', '/ShowUserReviews-g2536732-d14976947-r731955690-4_Locos_Argentine_Steakhouse-Purley_Greater_London_England.html', '/ShowUserReviews-g2536732-d14976947-r731034861-4_Locos_Argentine_Steakhouse-Purley_Greater_London_England.html', '/ShowUserReviews-g2536732-d14976947-r727266391-4_Locos_Argentine_Steakhouse-Purley_Greater_London_England.html', '/ShowUserReviews-g2536732-d14976947-r727046016-4_Locos_Argentine_Steakhouse-Purley_Greater_London_England.html', '/ShowUserReviews-g2536732-d14976947-r726782240-4_Locos_Argentine_Steakhouse-Purley_Greater_London_England.html', '/ShowUserReviews-g2536732-d14976947-r725688889-4_Locos_Argentine_Steakhouse-Purley_Greater_London_England.html', '/ShowUserReviews-g2536732-d14976947-r725433936-4_Locos_Argentine_Steakhouse-Purley_Greater_London_England.html', '/ShowUserReviews-g2536732-d14976947-r725044415-4_Locos_Argentine_Steakhouse-Purley_Greater_London_England.html']\n",
      "['/ShowUserReviews-g186338-d7290752-r743379263-L_oro_di_Napoli-London_England.html', '/ShowUserReviews-g186338-d7290752-r742256613-L_oro_di_Napoli-London_England.html', '/ShowUserReviews-g186338-d7290752-r741973336-L_oro_di_Napoli-London_England.html', '/ShowUserReviews-g186338-d7290752-r740065954-L_oro_di_Napoli-London_England.html', '/ShowUserReviews-g186338-d7290752-r735192160-L_oro_di_Napoli-London_England.html', '/ShowUserReviews-g186338-d7290752-r734135264-L_oro_di_Napoli-London_England.html', '/ShowUserReviews-g186338-d7290752-r733429956-L_oro_di_Napoli-London_England.html', '/ShowUserReviews-g186338-d7290752-r733048851-L_oro_di_Napoli-London_England.html', '/ShowUserReviews-g186338-d7290752-r732108606-L_oro_di_Napoli-London_England.html', '/ShowUserReviews-g186338-d7290752-r729860807-L_oro_di_Napoli-London_England.html']\n",
      "['/ShowUserReviews-g580418-d1168654-r737342413-Masa_Restaurant-Harrow_Greater_London_England.html', '/ShowUserReviews-g580418-d1168654-r737134353-Masa_Restaurant-Harrow_Greater_London_England.html', '/ShowUserReviews-g580418-d1168654-r735207171-Masa_Restaurant-Harrow_Greater_London_England.html', '/ShowUserReviews-g580418-d1168654-r734054958-Masa_Restaurant-Harrow_Greater_London_England.html', '/ShowUserReviews-g580418-d1168654-r732677573-Masa_Restaurant-Harrow_Greater_London_England.html', '/ShowUserReviews-g580418-d1168654-r732414176-Masa_Restaurant-Harrow_Greater_London_England.html', '/ShowUserReviews-g580418-d1168654-r731679902-Masa_Restaurant-Harrow_Greater_London_England.html', '/ShowUserReviews-g580418-d1168654-r731417749-Masa_Restaurant-Harrow_Greater_London_England.html', '/ShowUserReviews-g580418-d1168654-r731291871-Masa_Restaurant-Harrow_Greater_London_England.html', '/ShowUserReviews-g580418-d1168654-r730936252-Masa_Restaurant-Harrow_Greater_London_England.html']\n",
      "['/ShowUserReviews-g504167-d2620286-r743203082-Ponte_Nuovo-Croydon_Greater_London_England.html', '/ShowUserReviews-g504167-d2620286-r743174146-Ponte_Nuovo-Croydon_Greater_London_England.html', '/ShowUserReviews-g504167-d2620286-r743052785-Ponte_Nuovo-Croydon_Greater_London_England.html', '/ShowUserReviews-g504167-d2620286-r742572794-Ponte_Nuovo-Croydon_Greater_London_England.html', '/ShowUserReviews-g504167-d2620286-r742412571-Ponte_Nuovo-Croydon_Greater_London_England.html', '/ShowUserReviews-g504167-d2620286-r742337099-Ponte_Nuovo-Croydon_Greater_London_England.html', '/ShowUserReviews-g504167-d2620286-r741948715-Ponte_Nuovo-Croydon_Greater_London_England.html', '/ShowUserReviews-g504167-d2620286-r741488635-Ponte_Nuovo-Croydon_Greater_London_England.html', '/ShowUserReviews-g504167-d2620286-r741320364-Ponte_Nuovo-Croydon_Greater_London_England.html', '/ShowUserReviews-g504167-d2620286-r741043442-Ponte_Nuovo-Croydon_Greater_London_England.html']\n",
      "['/ShowUserReviews-g504169-d7221903-r742093468-Mezzet_Dar-East_Molesey_Molesey_Surrey_England.html', '/ShowUserReviews-g504169-d7221903-r741115538-Mezzet_Dar-East_Molesey_Molesey_Surrey_England.html', '/ShowUserReviews-g504169-d7221903-r738071568-Mezzet_Dar-East_Molesey_Molesey_Surrey_England.html', '/ShowUserReviews-g504169-d7221903-r737151085-Mezzet_Dar-East_Molesey_Molesey_Surrey_England.html', '/ShowUserReviews-g504169-d7221903-r735106834-Mezzet_Dar-East_Molesey_Molesey_Surrey_England.html', '/ShowUserReviews-g504169-d7221903-r734082648-Mezzet_Dar-East_Molesey_Molesey_Surrey_England.html', '/ShowUserReviews-g504169-d7221903-r733652240-Mezzet_Dar-East_Molesey_Molesey_Surrey_England.html', '/ShowUserReviews-g504169-d7221903-r733600709-Mezzet_Dar-East_Molesey_Molesey_Surrey_England.html', '/ShowUserReviews-g504169-d7221903-r729753409-Mezzet_Dar-East_Molesey_Molesey_Surrey_England.html', '/ShowUserReviews-g504169-d7221903-r715781201-Mezzet_Dar-East_Molesey_Molesey_Surrey_England.html']\n",
      "['/ShowUserReviews-g1752250-d13374090-r741378235-Doosra-Surbiton_Kingston_upon_Thames_Greater_London_England.html', '/ShowUserReviews-g1752250-d13374090-r664317689-Doosra-Surbiton_Kingston_upon_Thames_Greater_London_England.html', '/ShowUserReviews-g1752250-d13374090-r739606085-Doosra-Surbiton_Kingston_upon_Thames_Greater_London_England.html', '/ShowUserReviews-g1752250-d13374090-r738717042-Doosra-Surbiton_Kingston_upon_Thames_Greater_London_England.html', '/ShowUserReviews-g1752250-d13374090-r736628340-Doosra-Surbiton_Kingston_upon_Thames_Greater_London_England.html', '/ShowUserReviews-g1752250-d13374090-r735171693-Doosra-Surbiton_Kingston_upon_Thames_Greater_London_England.html', '/ShowUserReviews-g1752250-d13374090-r734954827-Doosra-Surbiton_Kingston_upon_Thames_Greater_London_England.html', '/ShowUserReviews-g1752250-d13374090-r733859116-Doosra-Surbiton_Kingston_upon_Thames_Greater_London_England.html', '/ShowUserReviews-g1752250-d13374090-r732853328-Doosra-Surbiton_Kingston_upon_Thames_Greater_London_England.html', '/ShowUserReviews-g1752250-d13374090-r731854065-Doosra-Surbiton_Kingston_upon_Thames_Greater_London_England.html']\n"
     ]
    },
    {
     "name": "stdout",
     "output_type": "stream",
     "text": [
      "['/ShowUserReviews-g504169-d19092676-r742163120-Indian_Panorama_Restaurant-East_Molesey_Molesey_Surrey_England.html', '/ShowUserReviews-g504169-d19092676-r741967340-Indian_Panorama_Restaurant-East_Molesey_Molesey_Surrey_England.html', '/ShowUserReviews-g504169-d19092676-r741608798-Indian_Panorama_Restaurant-East_Molesey_Molesey_Surrey_England.html', '/ShowUserReviews-g504169-d19092676-r741298481-Indian_Panorama_Restaurant-East_Molesey_Molesey_Surrey_England.html', '/ShowUserReviews-g504169-d19092676-r741268358-Indian_Panorama_Restaurant-East_Molesey_Molesey_Surrey_England.html', '/ShowUserReviews-g504169-d19092676-r740796989-Indian_Panorama_Restaurant-East_Molesey_Molesey_Surrey_England.html', '/ShowUserReviews-g504169-d19092676-r739249911-Indian_Panorama_Restaurant-East_Molesey_Molesey_Surrey_England.html', '/ShowUserReviews-g504169-d19092676-r739111000-Indian_Panorama_Restaurant-East_Molesey_Molesey_Surrey_England.html', '/ShowUserReviews-g504169-d19092676-r738694594-Indian_Panorama_Restaurant-East_Molesey_Molesey_Surrey_England.html', '/ShowUserReviews-g504169-d19092676-r738639276-Indian_Panorama_Restaurant-East_Molesey_Molesey_Surrey_England.html']\n",
      "['/ShowUserReviews-g190796-d4072239-r742201589-Tony_Parkin_at_The_Tudor_Room-Egham_Surrey_England.html', '/ShowUserReviews-g190796-d4072239-r741635736-Tony_Parkin_at_The_Tudor_Room-Egham_Surrey_England.html', '/ShowUserReviews-g190796-d4072239-r740998102-Tony_Parkin_at_The_Tudor_Room-Egham_Surrey_England.html', '/ShowUserReviews-g190796-d4072239-r739874149-Tony_Parkin_at_The_Tudor_Room-Egham_Surrey_England.html', '/ShowUserReviews-g190796-d4072239-r734697057-Tony_Parkin_at_The_Tudor_Room-Egham_Surrey_England.html', '/ShowUserReviews-g190796-d4072239-r733102186-Tony_Parkin_at_The_Tudor_Room-Egham_Surrey_England.html', '/ShowUserReviews-g190796-d4072239-r731883470-Tony_Parkin_at_The_Tudor_Room-Egham_Surrey_England.html', '/ShowUserReviews-g190796-d4072239-r731220433-Tony_Parkin_at_The_Tudor_Room-Egham_Surrey_England.html', '/ShowUserReviews-g190796-d4072239-r726659429-Tony_Parkin_at_The_Tudor_Room-Egham_Surrey_England.html', '/ShowUserReviews-g190796-d4072239-r724722684-Tony_Parkin_at_The_Tudor_Room-Egham_Surrey_England.html']\n",
      "['/ShowUserReviews-g504182-d2172614-r742091367-The_Clink_Restaurant-Sutton_Greater_London_England.html', '/ShowUserReviews-g504182-d2172614-r734288131-The_Clink_Restaurant-Sutton_Greater_London_England.html', '/ShowUserReviews-g504182-d2172614-r733609731-The_Clink_Restaurant-Sutton_Greater_London_England.html', '/ShowUserReviews-g504182-d2172614-r729457775-The_Clink_Restaurant-Sutton_Greater_London_England.html', '/ShowUserReviews-g504182-d2172614-r728614808-The_Clink_Restaurant-Sutton_Greater_London_England.html', '/ShowUserReviews-g504182-d2172614-r728399606-The_Clink_Restaurant-Sutton_Greater_London_England.html', '/ShowUserReviews-g504182-d2172614-r727976929-The_Clink_Restaurant-Sutton_Greater_London_England.html', '/ShowUserReviews-g504182-d2172614-r726878475-The_Clink_Restaurant-Sutton_Greater_London_England.html', '/ShowUserReviews-g504182-d2172614-r724533500-The_Clink_Restaurant-Sutton_Greater_London_England.html', '/ShowUserReviews-g504182-d2172614-r721503417-The_Clink_Restaurant-Sutton_Greater_London_England.html']\n",
      "['/ShowUserReviews-g673605-d12322333-r741469619-Namaste_Gurkha-Feltham_Hounslow_Greater_London_England.html', '/ShowUserReviews-g673605-d12322333-r741284801-Namaste_Gurkha-Feltham_Hounslow_Greater_London_England.html', '/ShowUserReviews-g673605-d12322333-r739115557-Namaste_Gurkha-Feltham_Hounslow_Greater_London_England.html', '/ShowUserReviews-g673605-d12322333-r735198316-Namaste_Gurkha-Feltham_Hounslow_Greater_London_England.html', '/ShowUserReviews-g673605-d12322333-r734559329-Namaste_Gurkha-Feltham_Hounslow_Greater_London_England.html', '/ShowUserReviews-g673605-d12322333-r734150243-Namaste_Gurkha-Feltham_Hounslow_Greater_London_England.html', '/ShowUserReviews-g673605-d12322333-r726548095-Namaste_Gurkha-Feltham_Hounslow_Greater_London_England.html', '/ShowUserReviews-g673605-d12322333-r726352154-Namaste_Gurkha-Feltham_Hounslow_Greater_London_England.html', '/ShowUserReviews-g673605-d12322333-r723344555-Namaste_Gurkha-Feltham_Hounslow_Greater_London_England.html', '/ShowUserReviews-g673605-d12322333-r721547839-Namaste_Gurkha-Feltham_Hounslow_Greater_London_England.html']\n",
      "['/ShowUserReviews-g1076982-d4240870-r742580474-Melucci_s-Bexley_Greater_London_England.html', '/ShowUserReviews-g1076982-d4240870-r742393745-Melucci_s-Bexley_Greater_London_England.html', '/ShowUserReviews-g1076982-d4240870-r735262837-Melucci_s-Bexley_Greater_London_England.html', '/ShowUserReviews-g1076982-d4240870-r733950649-Melucci_s-Bexley_Greater_London_England.html', '/ShowUserReviews-g1076982-d4240870-r727951543-Melucci_s-Bexley_Greater_London_England.html', '/ShowUserReviews-g1076982-d4240870-r704889403-Melucci_s-Bexley_Greater_London_England.html', '/ShowUserReviews-g1076982-d4240870-r695176912-Melucci_s-Bexley_Greater_London_England.html', '/ShowUserReviews-g1076982-d4240870-r694571672-Melucci_s-Bexley_Greater_London_England.html', '/ShowUserReviews-g1076982-d4240870-r693508445-Melucci_s-Bexley_Greater_London_England.html', '/ShowUserReviews-g1076982-d4240870-r693119615-Melucci_s-Bexley_Greater_London_England.html']\n",
      "['/ShowUserReviews-g186338-d3490463-r742604966-Awesome_Thai-London_England.html', '/ShowUserReviews-g186338-d3490463-r741385852-Awesome_Thai-London_England.html', '/ShowUserReviews-g186338-d3490463-r739818963-Awesome_Thai-London_England.html', '/ShowUserReviews-g186338-d3490463-r737307484-Awesome_Thai-London_England.html', '/ShowUserReviews-g186338-d3490463-r737140787-Awesome_Thai-London_England.html', '/ShowUserReviews-g186338-d3490463-r736613935-Awesome_Thai-London_England.html', '/ShowUserReviews-g186338-d3490463-r736116209-Awesome_Thai-London_England.html', '/ShowUserReviews-g186338-d3490463-r736035598-Awesome_Thai-London_England.html', '/ShowUserReviews-g186338-d3490463-r735293257-Awesome_Thai-London_England.html', '/ShowUserReviews-g186338-d3490463-r734855820-Awesome_Thai-London_England.html']\n",
      "['/ShowUserReviews-g186338-d7808892-r742564596-Lentil-London_England.html', '/ShowUserReviews-g186338-d7808892-r742273898-Lentil-London_England.html', '/ShowUserReviews-g186338-d7808892-r741046137-Lentil-London_England.html', '/ShowUserReviews-g186338-d7808892-r738910703-Lentil-London_England.html', '/ShowUserReviews-g186338-d7808892-r732988809-Lentil-London_England.html', '/ShowUserReviews-g186338-d7808892-r732349119-Lentil-London_England.html', '/ShowUserReviews-g186338-d7808892-r732312014-Lentil-London_England.html', '/ShowUserReviews-g186338-d7808892-r732098051-Lentil-London_England.html', '/ShowUserReviews-g186338-d7808892-r731056927-Lentil-London_England.html', '/ShowUserReviews-g186338-d7808892-r728316143-Lentil-London_England.html']\n"
     ]
    }
   ],
   "source": [
    "#Doing the same for each url\n",
    "for url in restaurants_urls:\n",
    "    url = 'https://www.tripadvisor.co.uk'+url\n",
    "    html = requests.get(url).content\n",
    "    sel = Selector(text=html)\n",
    "    rep = sel.css('div.quote > a ::attr(href)').extract()\n",
    "    print(rep)    "
   ]
  },
  {
   "cell_type": "code",
   "execution_count": 13,
   "metadata": {},
   "outputs": [
    {
     "name": "stdout",
     "output_type": "stream",
     "text": [
      "We decided to try as we read\n"
     ]
    }
   ],
   "source": [
    "# This code gives the title of each review \n",
    "\n",
    "rep = sel.css('div.quote > a > span::text').extract_first()\n",
    "print(rep)"
   ]
  },
  {
   "cell_type": "code",
   "execution_count": 14,
   "metadata": {},
   "outputs": [
    {
     "name": "stdout",
     "output_type": "stream",
     "text": [
      "['Date of visit:', ' February 2020', 'Date of visit:', ' January 2020', 'Date of visit:', ' January 2020', 'Date of visit:', ' January 2020', 'Date of visit:', ' December 2019', 'Date of visit:', ' November 2019', 'Date of visit:', ' December 2019', 'Date of visit:', ' December 2019', 'Date of visit:', ' December 2019', 'Date of visit:', ' November 2019']\n"
     ]
    }
   ],
   "source": [
    "# This code gives the dates of the reviews \n",
    "rep = sel.css('div.prw_rup.prw_reviews_stay_date_hsx ::text').extract()\n",
    "print(rep)"
   ]
  },
  {
   "cell_type": "code",
   "execution_count": 15,
   "metadata": {},
   "outputs": [
    {
     "name": "stdout",
     "output_type": "stream",
     "text": [
      "['The date of the review number 1 is: February 2020', 'The date of the review number 2 is: January 2020', 'The date of the review number 3 is: January 2020', 'The date of the review number 4 is: January 2020', 'The date of the review number 5 is: December 2019', 'The date of the review number 6 is: November 2019', 'The date of the review number 7 is: December 2019', 'The date of the review number 8 is: December 2019', 'The date of the review number 9 is: December 2019', 'The date of the review number 10 is: November 2019']\n"
     ]
    }
   ],
   "source": [
    "# Let's get a better visualization : \n",
    "\n",
    "Answer = []\n",
    "i = 1\n",
    "for x in range(len(rep)):\n",
    "    if x%2 == 1:\n",
    "        Answer.append('The date of the review number '+str(i)+' is:' + rep[x])\n",
    "        i +=1\n",
    "print(Answer)"
   ]
  },
  {
   "cell_type": "code",
   "execution_count": 16,
   "metadata": {},
   "outputs": [
    {
     "name": "stdout",
     "output_type": "stream",
     "text": [
      "['We decided to try as we read the reviews. Well it’s a total 5 for us. Staff so friendly, food amazing. Not rushed at all.\\nWhat a find. The Chablis is fantastic. Will definitely be back soon.', 'Great tasting food, and the staff are outstanding and always willing to go the extra mile to work out what you want, and when it comes it always is.', 'Food was great, really enjoyed the chicken masala with rice. Had a fab night and the chef was really nice', \"We had a wonderful meal at Lentil last week and were helped from start to finish by the lovely gentleman who served us. We were a family of four with a variety of dietary preferences and restrictions! But this didn't put him off - he...\", 'More', 'Very attentive service and first rate food - you can tell this is a family run restaurant.\\n\\nThe mono’s are highly recommended along with the keema peas and makhani dhal.\\n\\nI can’t recommended the food highly enough - We will definitely go again!!', 'Looking at recent reviews which claim that Lentil is best Indian restaurant in area i visited and ordered takeaway. I must say i was not impressed and food was nothing special from other standard restaurants, portions seemed light and flavours nothing special as claimed by...', 'More', 'The food was amazing,  the staff were fantastic. My wife and I could not fault it at all.  5 Stars from us 🌟🌟🌟🌟🌟', 'Very good food and service. Well worth a visit, both for locals and visitors. And only a few drops on the 65 bus from Ealing Broadway - and much better than any chain!', 'A party of 5 of us rocked up here after reading Trip Advisor reviews. Food was excellent - starters were house recommendations and delicious. Main course naans were home made and light & tasty, (try the Peshawari!) all served in a very friendly, polite &...', 'More', 'The experience from start to finish at Lentil was amazing! We were drawn by the reviews and it absolutely lived up to and surpassed our expectations. We booked in advance which was really easy to do. From the minute we walked through the door, all...', 'More']\n"
     ]
    }
   ],
   "source": [
    "#This code extract all the text reviews\n",
    "rep = sel.css('p.partial_entry ::text').extract()\n",
    "print(rep)"
   ]
  },
  {
   "cell_type": "code",
   "execution_count": 17,
   "metadata": {},
   "outputs": [
    {
     "data": {
      "text/plain": [
       "['254 people gave 5 stars to this restaurant',\n",
       " '27 people gave 4 stars to this restaurant',\n",
       " '7 people gave 3 stars to this restaurant',\n",
       " '4 people gave 2 stars to this restaurant',\n",
       " '2 people gave 1 stars to this restaurant']"
      ]
     },
     "execution_count": 17,
     "metadata": {},
     "output_type": "execute_result"
    }
   ],
   "source": [
    "#This code gives the number of pepople giving a certain score :\n",
    "rep = sel.css('span.row_num.is-shown-at-tablet ::text').extract()\n",
    "Answer = []\n",
    "for i in range(len(rep)):\n",
    "    Answer.append(rep[i]+' people gave '+str(5-i)+' stars to this restaurant')\n",
    "Answer"
   ]
  },
  {
   "cell_type": "code",
   "execution_count": 18,
   "metadata": {},
   "outputs": [
    {
     "data": {
      "text/plain": [
       "4.792517006802721"
      ]
     },
     "execution_count": 18,
     "metadata": {},
     "output_type": "execute_result"
    }
   ],
   "source": [
    "# This code gives the average score of the restaurant : I think we can get it directly from the website, but I was not able to do it:\n",
    "Total = 0\n",
    "Total_score = 0\n",
    "Score = 0\n",
    "for i in range(len(rep)):\n",
    "    Total += int(rep[i])\n",
    "    Total_score = Total_score + int(rep[i])*(5-i)\n",
    "Score = Total_score/Total\n",
    "Score"
   ]
  },
  {
   "cell_type": "markdown",
   "metadata": {},
   "source": [
    "**Parsing review**"
   ]
  },
  {
   "cell_type": "code",
   "execution_count": 19,
   "metadata": {},
   "outputs": [
    {
     "name": "stdout",
     "output_type": "stream",
     "text": [
      "An authentic Japanese restaurant in an intimate setting. Sushi and sashimi done to perfection, well explained by the immensely friendly staff. Complimentary miso is exceptional - you’re well looked after! A lovely katsu also. We will be back! \n"
     ]
    }
   ],
   "source": [
    "# This code extracts the main paragraphe of the review,  I'll go with the first one of UMI.\n",
    "url = 'https://www.tripadvisor.co.uk/ShowUserReviews-g528819-d10490489-r740096520-Umi-Twickenham_Greater_London_England.html'\n",
    "html = requests.get(url).content\n",
    "sel = Selector(text=html)\n",
    "rep = sel.css('p.partial_entry ::text').extract_first()\n",
    "print(rep)"
   ]
  },
  {
   "cell_type": "code",
   "execution_count": 20,
   "metadata": {},
   "outputs": [
    {
     "name": "stdout",
     "output_type": "stream",
     "text": [
      "858benl\n"
     ]
    }
   ],
   "source": [
    "# This code gives the pseudonyme of the person who gave the review\n",
    "rep = sel.css('DIV.prw_rup.prw_reviews_member_info_hsx .username .scrname ::text').extract_first()\n",
    "print(rep)"
   ]
  },
  {
   "cell_type": "code",
   "execution_count": 21,
   "metadata": {},
   "outputs": [
    {
     "name": "stdout",
     "output_type": "stream",
     "text": [
      "['858benl', 'BarnabyHilbourne', 'ThereseW25', 'IncognitoSommelier', 'JOHN T']\n"
     ]
    }
   ],
   "source": [
    "# This code gives the pseudonyme of each person who gave a review\n",
    "rep = sel.css('DIV.prw_rup.prw_reviews_member_info_hsx .username .scrname ::text').extract()\n",
    "print(rep)"
   ]
  },
  {
   "cell_type": "markdown",
   "metadata": {},
   "source": [
    "**Navigating between pages**"
   ]
  },
  {
   "cell_type": "code",
   "execution_count": 22,
   "metadata": {},
   "outputs": [],
   "source": [
    "# To do the parsing for each page, a for loop using the urls list will be enought\n",
    "# we juste need to use this: \n",
    "tripadvisor = 'https://www.tripadvisor.co.uk'\n",
    "# then the link will be 'tripadvisor + link found in the list'"
   ]
  },
  {
   "cell_type": "markdown",
   "metadata": {},
   "source": [
    "#### Scrapping using the spider"
   ]
  },
  {
   "cell_type": "code",
   "execution_count": 23,
   "metadata": {},
   "outputs": [
    {
     "name": "stdout",
     "output_type": "stream",
     "text": [
      "Scrapping finished.\n"
     ]
    }
   ],
   "source": [
    "# Parameters for spider execution\n",
    "import os\n",
    "file_path = '../scrapped_data/'\n",
    "file_name = 'ReviewRestoSpider.jl'\n",
    "spider_name = 'RestoReviewSpider'\n",
    "path = file_path + file_name\n",
    "\n",
    "# Check if file already exists\n",
    "if file_name in os.listdir(file_path):\n",
    "    _ = os.remove(path)\n",
    "\n",
    "# Execution of spider\n",
    "cmd1 = 'cd ../TA_scrapy/'\n",
    "cmd2 = 'scrapy crawl {} -o {} '.format(spider_name, path)\n",
    "cmd = cmd1 + ' && ' + cmd2\n",
    "_ = os.system(cmd)\n",
    "\n",
    "if _==0:\n",
    "    print(\"Scrapping finished.\")\n",
    "else:\n",
    "    print('Look at the bash to understand error.')"
   ]
  },
  {
   "cell_type": "code",
   "execution_count": 24,
   "metadata": {},
   "outputs": [],
   "source": [
    "# Function rto read jl file\n",
    "def read_jl_file(file_name):\n",
    "    values = []\n",
    "    with open(file_name, 'rb') as f:\n",
    "        line = '---'\n",
    "        while len(line)>1:\n",
    "            line = f.readline()\n",
    "            values.append(line)\n",
    "    values = values[:-1]\n",
    "    values = [json.loads(i) for i in values]\n",
    "    df = pd.DataFrame(values)\n",
    "    return df\n",
    "\n",
    "# Reading file\n",
    "df = read_jl_file(path)"
   ]
  },
  {
   "cell_type": "code",
   "execution_count": 25,
   "metadata": {},
   "outputs": [
    {
     "data": {
      "text/plain": [
       "(3660, 5)"
      ]
     },
     "execution_count": 25,
     "metadata": {},
     "output_type": "execute_result"
    }
   ],
   "source": [
    "df.shape"
   ]
  },
  {
   "cell_type": "code",
   "execution_count": 26,
   "metadata": {},
   "outputs": [
    {
     "data": {
      "text/html": [
       "<div>\n",
       "<style scoped>\n",
       "    .dataframe tbody tr th:only-of-type {\n",
       "        vertical-align: middle;\n",
       "    }\n",
       "\n",
       "    .dataframe tbody tr th {\n",
       "        vertical-align: top;\n",
       "    }\n",
       "\n",
       "    .dataframe thead th {\n",
       "        text-align: right;\n",
       "    }\n",
       "</style>\n",
       "<table border=\"1\" class=\"dataframe\">\n",
       "  <thead>\n",
       "    <tr style=\"text-align: right;\">\n",
       "      <th></th>\n",
       "      <th>Rating</th>\n",
       "      <th>Restaurant_name</th>\n",
       "      <th>name</th>\n",
       "      <th>partial content</th>\n",
       "      <th>title</th>\n",
       "    </tr>\n",
       "  </thead>\n",
       "  <tbody>\n",
       "    <tr>\n",
       "      <th>0</th>\n",
       "      <td>[5 of 5 bubbles]</td>\n",
       "      <td>[ Namaste Gurkha ]</td>\n",
       "      <td>Naheed R</td>\n",
       "      <td>Amazing friendly staff. Very good prices. Food...</td>\n",
       "      <td>Great food even better service</td>\n",
       "    </tr>\n",
       "    <tr>\n",
       "      <th>1</th>\n",
       "      <td>[5 of 5 bubbles]</td>\n",
       "      <td>[ Namaste Gurkha ]</td>\n",
       "      <td>leona939</td>\n",
       "      <td>Great food, friendly staff, decent prices. I h...</td>\n",
       "      <td>Great food</td>\n",
       "    </tr>\n",
       "    <tr>\n",
       "      <th>2</th>\n",
       "      <td>[5 of 5 bubbles]</td>\n",
       "      <td>[ Melucci's ]</td>\n",
       "      <td>kazowen</td>\n",
       "      <td>The most amazing breakfast, ingredients fresh ...</td>\n",
       "      <td>Breakfast Bliss</td>\n",
       "    </tr>\n",
       "    <tr>\n",
       "      <th>3</th>\n",
       "      <td>[4 of 5 bubbles]</td>\n",
       "      <td>[ Awesome Thai ]</td>\n",
       "      <td>richardcC3581NV</td>\n",
       "      <td>So why not five stars? Everything was was very...</td>\n",
       "      <td>Friendly staff, good food, good portions</td>\n",
       "    </tr>\n",
       "    <tr>\n",
       "      <th>4</th>\n",
       "      <td>[5 of 5 bubbles]</td>\n",
       "      <td>[ Indian Panorama Restaurant ]</td>\n",
       "      <td>LuxeLoverLdn</td>\n",
       "      <td>Took my mum for a midweek lunch. 10/10 service...</td>\n",
       "      <td>Go here!</td>\n",
       "    </tr>\n",
       "    <tr>\n",
       "      <th>5</th>\n",
       "      <td>[5 of 5 bubbles]</td>\n",
       "      <td>[ Awesome Thai ]</td>\n",
       "      <td>faiths687</td>\n",
       "      <td>I’ve visited here twice this restaurant twice ...</td>\n",
       "      <td>Beautiful food and lovely service</td>\n",
       "    </tr>\n",
       "    <tr>\n",
       "      <th>6</th>\n",
       "      <td>[5 of 5 bubbles]</td>\n",
       "      <td>[ Indian Panorama Restaurant ]</td>\n",
       "      <td>Lovesbitez</td>\n",
       "      <td>Really lovely food, fresh and tasty. Perfect ....</td>\n",
       "      <td>Ann</td>\n",
       "    </tr>\n",
       "    <tr>\n",
       "      <th>7</th>\n",
       "      <td>[5 of 5 bubbles]</td>\n",
       "      <td>[ Doosra ]</td>\n",
       "      <td>phcsmith</td>\n",
       "      <td>It was the ethical ethos of this restaurant th...</td>\n",
       "      <td>Ethical Indian restaurant well worth a visit</td>\n",
       "    </tr>\n",
       "    <tr>\n",
       "      <th>8</th>\n",
       "      <td>[5 of 5 bubbles]</td>\n",
       "      <td>[ Doosra ]</td>\n",
       "      <td>David M</td>\n",
       "      <td>What a surprisingly super culinary experience....</td>\n",
       "      <td>It's rare to find a really good authentic nort...</td>\n",
       "    </tr>\n",
       "    <tr>\n",
       "      <th>9</th>\n",
       "      <td>[5 of 5 bubbles]</td>\n",
       "      <td>[ Mezzet Dar ]</td>\n",
       "      <td>199willk</td>\n",
       "      <td>I love this place! The food is top notch and t...</td>\n",
       "      <td>A brilliant restaurant - delicious food and ex...</td>\n",
       "    </tr>\n",
       "    <tr>\n",
       "      <th>10</th>\n",
       "      <td>[5 of 5 bubbles]</td>\n",
       "      <td>[ Revolution ]</td>\n",
       "      <td>Johnnyuu36</td>\n",
       "      <td>Our waitress Sofia was so lovely , she really ...</td>\n",
       "      <td>Best night ever</td>\n",
       "    </tr>\n",
       "    <tr>\n",
       "      <th>11</th>\n",
       "      <td>[5 of 5 bubbles]</td>\n",
       "      <td>[ Sweet Rose Cakery ]</td>\n",
       "      <td>Iris M</td>\n",
       "      <td>We had a very relaxing afternoon tea fresh san...</td>\n",
       "      <td>Relaxing afternoon</td>\n",
       "    </tr>\n",
       "    <tr>\n",
       "      <th>12</th>\n",
       "      <td>[5 of 5 bubbles]</td>\n",
       "      <td>[ L'oro di Napoli ]</td>\n",
       "      <td>federicapJ339XX</td>\n",
       "      <td>We go to L’oro di Napoli every two weeks and e...</td>\n",
       "      <td>The best Pizza in London!</td>\n",
       "    </tr>\n",
       "    <tr>\n",
       "      <th>13</th>\n",
       "      <td>[5 of 5 bubbles]</td>\n",
       "      <td>[ L'oro di Napoli ]</td>\n",
       "      <td>jordib544</td>\n",
       "      <td>This little familiar restaurant should become ...</td>\n",
       "      <td>As always the best Pizza in London</td>\n",
       "    </tr>\n",
       "    <tr>\n",
       "      <th>14</th>\n",
       "      <td>[5 of 5 bubbles]</td>\n",
       "      <td>[ Sweet Rose Cakery ]</td>\n",
       "      <td>lea b</td>\n",
       "      <td>Was here yesterday10th September with my husba...</td>\n",
       "      <td>Lunchtime Heaven</td>\n",
       "    </tr>\n",
       "    <tr>\n",
       "      <th>15</th>\n",
       "      <td>[5 of 5 bubbles]</td>\n",
       "      <td>[ Revolution ]</td>\n",
       "      <td>772sallyn</td>\n",
       "      <td>Iulian was amazing so funny!!!!! Made the whol...</td>\n",
       "      <td>Cocktail master class</td>\n",
       "    </tr>\n",
       "    <tr>\n",
       "      <th>16</th>\n",
       "      <td>[5 of 5 bubbles]</td>\n",
       "      <td>[ Oliveira Organic Vegetarian Kitchen ]</td>\n",
       "      <td>651mrp</td>\n",
       "      <td>Dinner last night was very enjoyable - good bu...</td>\n",
       "      <td>Good food, good atmosphere</td>\n",
       "    </tr>\n",
       "    <tr>\n",
       "      <th>17</th>\n",
       "      <td>[5 of 5 bubbles]</td>\n",
       "      <td>[ L'oro di Napoli ]</td>\n",
       "      <td>Jkeyy</td>\n",
       "      <td>It was our first visit as someone recommended ...</td>\n",
       "      <td>Friendly staff and great food</td>\n",
       "    </tr>\n",
       "    <tr>\n",
       "      <th>18</th>\n",
       "      <td>[4 of 5 bubbles]</td>\n",
       "      <td>[ Oliveira Organic Vegetarian Kitchen ]</td>\n",
       "      <td>irenegN5702RK</td>\n",
       "      <td>I brought my entire family for dinner to Olive...</td>\n",
       "      <td>Superb plant based reastaurant</td>\n",
       "    </tr>\n",
       "    <tr>\n",
       "      <th>19</th>\n",
       "      <td>[5 of 5 bubbles]</td>\n",
       "      <td>[ Oliveira Organic Vegetarian Kitchen ]</td>\n",
       "      <td>41simonr</td>\n",
       "      <td>Great spot for Sunday breakfast. Very healthy ...</td>\n",
       "      <td>Healthy quality</td>\n",
       "    </tr>\n",
       "    <tr>\n",
       "      <th>20</th>\n",
       "      <td>[5 of 5 bubbles]</td>\n",
       "      <td>[ Oliveira Organic Vegetarian Kitchen ]</td>\n",
       "      <td>bry1545</td>\n",
       "      <td>Wow- what an amazing find. The meal we had was...</td>\n",
       "      <td>Blown away!</td>\n",
       "    </tr>\n",
       "    <tr>\n",
       "      <th>21</th>\n",
       "      <td>[5 of 5 bubbles]</td>\n",
       "      <td>[ Oliveira Organic Vegetarian Kitchen ]</td>\n",
       "      <td>cabe75uk</td>\n",
       "      <td>I went for dinner all my plates was wonderfoul...</td>\n",
       "      <td>really taste</td>\n",
       "    </tr>\n",
       "    <tr>\n",
       "      <th>22</th>\n",
       "      <td>[3 of 5 bubbles]</td>\n",
       "      <td>[ Oliveira Organic Vegetarian Kitchen ]</td>\n",
       "      <td>nhmo</td>\n",
       "      <td>Read great reviews so headed out on a rainy ni...</td>\n",
       "      <td>Long Trek for OK food</td>\n",
       "    </tr>\n",
       "    <tr>\n",
       "      <th>23</th>\n",
       "      <td>[5 of 5 bubbles]</td>\n",
       "      <td>[ Oliveira Organic Vegetarian Kitchen ]</td>\n",
       "      <td>HappyToDiscover</td>\n",
       "      <td>I came to this restaurant with my family who n...</td>\n",
       "      <td>Amazing restaurant, highly recommended.</td>\n",
       "    </tr>\n",
       "    <tr>\n",
       "      <th>24</th>\n",
       "      <td>[5 of 5 bubbles]</td>\n",
       "      <td>[ Oliveira Organic Vegetarian Kitchen ]</td>\n",
       "      <td>Cslade86</td>\n",
       "      <td>Popped in for lunch after a walk through Richm...</td>\n",
       "      <td>Lovely Sunday Lunch</td>\n",
       "    </tr>\n",
       "    <tr>\n",
       "      <th>25</th>\n",
       "      <td>[5 of 5 bubbles]</td>\n",
       "      <td>[ Oliveira Organic Vegetarian Kitchen ]</td>\n",
       "      <td>Daydream739029</td>\n",
       "      <td>Delicious selection of vegan options. Lovely s...</td>\n",
       "      <td>Cosy Quiet Vegetarian Eco-Friendly Eatery with...</td>\n",
       "    </tr>\n",
       "    <tr>\n",
       "      <th>26</th>\n",
       "      <td>[5 of 5 bubbles]</td>\n",
       "      <td>[ Q Verde ]</td>\n",
       "      <td>David69M</td>\n",
       "      <td>Fantastic evening with outstanding food and se...</td>\n",
       "      <td>Outstanding food and service</td>\n",
       "    </tr>\n",
       "    <tr>\n",
       "      <th>27</th>\n",
       "      <td>[5 of 5 bubbles]</td>\n",
       "      <td>[ Q Verde ]</td>\n",
       "      <td>jjcolbert</td>\n",
       "      <td>Went to the restaurant at 6pm before the Kew L...</td>\n",
       "      <td>Amazing Genuine Italian</td>\n",
       "    </tr>\n",
       "    <tr>\n",
       "      <th>28</th>\n",
       "      <td>[5 of 5 bubbles]</td>\n",
       "      <td>[ Q Verde ]</td>\n",
       "      <td>Tracey H</td>\n",
       "      <td>What a great little restaurant in Kew .</td>\n",
       "      <td>Great restaurant!</td>\n",
       "    </tr>\n",
       "    <tr>\n",
       "      <th>29</th>\n",
       "      <td>[5 of 5 bubbles]</td>\n",
       "      <td>[ Q Verde ]</td>\n",
       "      <td>Nikaldz</td>\n",
       "      <td>Very friendly and welcoming atmosphere at the ...</td>\n",
       "      <td>Amazing food!!</td>\n",
       "    </tr>\n",
       "    <tr>\n",
       "      <th>...</th>\n",
       "      <td>...</td>\n",
       "      <td>...</td>\n",
       "      <td>...</td>\n",
       "      <td>...</td>\n",
       "      <td>...</td>\n",
       "    </tr>\n",
       "    <tr>\n",
       "      <th>3630</th>\n",
       "      <td>[5 of 5 bubbles]</td>\n",
       "      <td>[ Sidra ]</td>\n",
       "      <td>Karam S</td>\n",
       "      <td>So delicious food ..clean . Fresh. Mezza for 2...</td>\n",
       "      <td>The best restaurant in teddington</td>\n",
       "    </tr>\n",
       "    <tr>\n",
       "      <th>3631</th>\n",
       "      <td>[5 of 5 bubbles]</td>\n",
       "      <td>[ Sidra ]</td>\n",
       "      <td>Alan-Fifi</td>\n",
       "      <td>I can not recommend strongly enough how good t...</td>\n",
       "      <td>Never Fails</td>\n",
       "    </tr>\n",
       "    <tr>\n",
       "      <th>3632</th>\n",
       "      <td>[4 of 5 bubbles]</td>\n",
       "      <td>[ Sidra ]</td>\n",
       "      <td>reahs27</td>\n",
       "      <td>Lived in the Middle East for 10 years, living ...</td>\n",
       "      <td>Arabian Delights!</td>\n",
       "    </tr>\n",
       "    <tr>\n",
       "      <th>3633</th>\n",
       "      <td>[5 of 5 bubbles]</td>\n",
       "      <td>[ Sidra ]</td>\n",
       "      <td>ianhJ8487ZA</td>\n",
       "      <td>Came across Sidra completely by accident as th...</td>\n",
       "      <td>Lovely middle eastern food</td>\n",
       "    </tr>\n",
       "    <tr>\n",
       "      <th>3634</th>\n",
       "      <td>[5 of 5 bubbles]</td>\n",
       "      <td>[ Sidra ]</td>\n",
       "      <td>SAENBE</td>\n",
       "      <td>Wow, I left feeling very happy and satisfied!</td>\n",
       "      <td>Great food, attentive staff &amp; relaxed atmosphere</td>\n",
       "    </tr>\n",
       "    <tr>\n",
       "      <th>3635</th>\n",
       "      <td>[5 of 5 bubbles]</td>\n",
       "      <td>[ MOMO &amp; ROTI ]</td>\n",
       "      <td>Shree977</td>\n",
       "      <td>I have visited this place several times with f...</td>\n",
       "      <td>Best momo in London!</td>\n",
       "    </tr>\n",
       "    <tr>\n",
       "      <th>3636</th>\n",
       "      <td>[5 of 5 bubbles]</td>\n",
       "      <td>[ Sidra ]</td>\n",
       "      <td>adnans183</td>\n",
       "      <td>I loved everything about this restaurant: the ...</td>\n",
       "      <td>Wonderful place</td>\n",
       "    </tr>\n",
       "    <tr>\n",
       "      <th>3637</th>\n",
       "      <td>[4 of 5 bubbles]</td>\n",
       "      <td>[ Sidra ]</td>\n",
       "      <td>91chandnib</td>\n",
       "      <td>Extremely Friendly and Food is Delicious! Nice...</td>\n",
       "      <td>Great Cafe</td>\n",
       "    </tr>\n",
       "    <tr>\n",
       "      <th>3638</th>\n",
       "      <td>[5 of 5 bubbles]</td>\n",
       "      <td>[ MOMO &amp; ROTI ]</td>\n",
       "      <td>Poulton_66</td>\n",
       "      <td>Superb, authentic food served very politely. D...</td>\n",
       "      <td>Great, fresh food</td>\n",
       "    </tr>\n",
       "    <tr>\n",
       "      <th>3639</th>\n",
       "      <td>[5 of 5 bubbles]</td>\n",
       "      <td>[ MOMO &amp; ROTI ]</td>\n",
       "      <td>TracymaccyG</td>\n",
       "      <td>Momo &amp; Roti has the most delicious dishes we w...</td>\n",
       "      <td>A must if you want a variety of delicious food</td>\n",
       "    </tr>\n",
       "    <tr>\n",
       "      <th>3640</th>\n",
       "      <td>[5 of 5 bubbles]</td>\n",
       "      <td>[ MOMO &amp; ROTI ]</td>\n",
       "      <td>Suman S</td>\n",
       "      <td>Best Jhol Momo in UK. Me and my family always ...</td>\n",
       "      <td>Best as always</td>\n",
       "    </tr>\n",
       "    <tr>\n",
       "      <th>3641</th>\n",
       "      <td>[5 of 5 bubbles]</td>\n",
       "      <td>[ MOMO &amp; ROTI ]</td>\n",
       "      <td>rahul1707s</td>\n",
       "      <td>The owner (Basant) was very welcoming and help...</td>\n",
       "      <td>Authentic Nepali food at decent price</td>\n",
       "    </tr>\n",
       "    <tr>\n",
       "      <th>3642</th>\n",
       "      <td>[5 of 5 bubbles]</td>\n",
       "      <td>[ MOMO &amp; ROTI ]</td>\n",
       "      <td>monspy</td>\n",
       "      <td>We got the sandekho fried momos (chicken) and ...</td>\n",
       "      <td>Authentic delicious nepali momos</td>\n",
       "    </tr>\n",
       "    <tr>\n",
       "      <th>3643</th>\n",
       "      <td>[5 of 5 bubbles]</td>\n",
       "      <td>[ The French Table ]</td>\n",
       "      <td>V6226FMjohns</td>\n",
       "      <td>Been a few times now and these guys never let ...</td>\n",
       "      <td>Excellent festive lunch</td>\n",
       "    </tr>\n",
       "    <tr>\n",
       "      <th>3644</th>\n",
       "      <td>[5 of 5 bubbles]</td>\n",
       "      <td>[ The French Table ]</td>\n",
       "      <td>eveagni92</td>\n",
       "      <td>Amazing food, must go! If you don’t your missi...</td>\n",
       "      <td>Delicious</td>\n",
       "    </tr>\n",
       "    <tr>\n",
       "      <th>3645</th>\n",
       "      <td>[5 of 5 bubbles]</td>\n",
       "      <td>[ MOMO &amp; ROTI ]</td>\n",
       "      <td>Sumithra M</td>\n",
       "      <td>Lovely place with excellent food and they did ...</td>\n",
       "      <td>Authentic flavours</td>\n",
       "    </tr>\n",
       "    <tr>\n",
       "      <th>3646</th>\n",
       "      <td>[5 of 5 bubbles]</td>\n",
       "      <td>[ The French Table ]</td>\n",
       "      <td>814SarahT</td>\n",
       "      <td>A special celebration and a very special meal....</td>\n",
       "      <td>Superb</td>\n",
       "    </tr>\n",
       "    <tr>\n",
       "      <th>3647</th>\n",
       "      <td>[5 of 5 bubbles]</td>\n",
       "      <td>[ The French Table ]</td>\n",
       "      <td>877sianl</td>\n",
       "      <td>The French Table is my favourite restaurant an...</td>\n",
       "      <td>Fantastic Christmas set lunch menu</td>\n",
       "    </tr>\n",
       "    <tr>\n",
       "      <th>3648</th>\n",
       "      <td>[4 of 5 bubbles]</td>\n",
       "      <td>[ The French Table ]</td>\n",
       "      <td>Mark Benjamin L</td>\n",
       "      <td>I attended a group lunch just before Christmas...</td>\n",
       "      <td>A charming restaurant</td>\n",
       "    </tr>\n",
       "    <tr>\n",
       "      <th>3649</th>\n",
       "      <td>[5 of 5 bubbles]</td>\n",
       "      <td>[ The French Table ]</td>\n",
       "      <td>ffw1965</td>\n",
       "      <td>As always good food, wine and ambience. It was...</td>\n",
       "      <td>Always a treat</td>\n",
       "    </tr>\n",
       "    <tr>\n",
       "      <th>3650</th>\n",
       "      <td>[5 of 5 bubbles]</td>\n",
       "      <td>[ The French Table ]</td>\n",
       "      <td>caroljose</td>\n",
       "      <td>It was our first visit to the French table and...</td>\n",
       "      <td>Lovely birthday lunch</td>\n",
       "    </tr>\n",
       "    <tr>\n",
       "      <th>3651</th>\n",
       "      <td>[5 of 5 bubbles]</td>\n",
       "      <td>[ The French Table ]</td>\n",
       "      <td>GarethrT</td>\n",
       "      <td>Visited for our friends anniversary lunch. We ...</td>\n",
       "      <td>Anniversary lunch</td>\n",
       "    </tr>\n",
       "    <tr>\n",
       "      <th>3652</th>\n",
       "      <td>[5 of 5 bubbles]</td>\n",
       "      <td>[ The French Table ]</td>\n",
       "      <td>quentonlennon</td>\n",
       "      <td>Nothing bad to say about this place. The food ...</td>\n",
       "      <td>First Class</td>\n",
       "    </tr>\n",
       "    <tr>\n",
       "      <th>3653</th>\n",
       "      <td>[5 of 5 bubbles]</td>\n",
       "      <td>[ Mezzet Lebanese Restaurant ]</td>\n",
       "      <td>qingham</td>\n",
       "      <td>Brilliant restaurant - catered for a huge fami...</td>\n",
       "      <td>Ask for Jonas!</td>\n",
       "    </tr>\n",
       "    <tr>\n",
       "      <th>3654</th>\n",
       "      <td>[5 of 5 bubbles]</td>\n",
       "      <td>[ Mezzet Lebanese Restaurant ]</td>\n",
       "      <td>OneLovesTravel</td>\n",
       "      <td>We returned for our girlie Christmas gathering...</td>\n",
       "      <td>Always outstanding</td>\n",
       "    </tr>\n",
       "    <tr>\n",
       "      <th>3655</th>\n",
       "      <td>[3 of 5 bubbles]</td>\n",
       "      <td>[ Mezzet Lebanese Restaurant ]</td>\n",
       "      <td>135bexa</td>\n",
       "      <td>I visited this restaurant by accident actually...</td>\n",
       "      <td>I visited this restaurant</td>\n",
       "    </tr>\n",
       "    <tr>\n",
       "      <th>3656</th>\n",
       "      <td>[5 of 5 bubbles]</td>\n",
       "      <td>[ Mezzet Lebanese Restaurant ]</td>\n",
       "      <td>I8025IKdonnal</td>\n",
       "      <td>We were a large group from the states; was the...</td>\n",
       "      <td>Over the top exceptional!</td>\n",
       "    </tr>\n",
       "    <tr>\n",
       "      <th>3657</th>\n",
       "      <td>[5 of 5 bubbles]</td>\n",
       "      <td>[ Mezzet Lebanese Restaurant ]</td>\n",
       "      <td>robinmB207OY</td>\n",
       "      <td>Came here as a group of six. Good value and th...</td>\n",
       "      <td>Best in the area</td>\n",
       "    </tr>\n",
       "    <tr>\n",
       "      <th>3658</th>\n",
       "      <td>[5 of 5 bubbles]</td>\n",
       "      <td>[ Mezzet Lebanese Restaurant ]</td>\n",
       "      <td>VMD67</td>\n",
       "      <td>Mezzet is always very welcoming and you will n...</td>\n",
       "      <td>Simply Delicious</td>\n",
       "    </tr>\n",
       "    <tr>\n",
       "      <th>3659</th>\n",
       "      <td>[5 of 5 bubbles]</td>\n",
       "      <td>[ Mezzet Lebanese Restaurant ]</td>\n",
       "      <td>jackdL849SV</td>\n",
       "      <td>We recently went to Mezzet for the second time...</td>\n",
       "      <td>Fantastic Meal!</td>\n",
       "    </tr>\n",
       "  </tbody>\n",
       "</table>\n",
       "<p>3660 rows × 5 columns</p>\n",
       "</div>"
      ],
      "text/plain": [
       "                Rating                          Restaurant_name  \\\n",
       "0     [5 of 5 bubbles]                       [ Namaste Gurkha ]   \n",
       "1     [5 of 5 bubbles]                       [ Namaste Gurkha ]   \n",
       "2     [5 of 5 bubbles]                            [ Melucci's ]   \n",
       "3     [4 of 5 bubbles]                         [ Awesome Thai ]   \n",
       "4     [5 of 5 bubbles]           [ Indian Panorama Restaurant ]   \n",
       "5     [5 of 5 bubbles]                         [ Awesome Thai ]   \n",
       "6     [5 of 5 bubbles]           [ Indian Panorama Restaurant ]   \n",
       "7     [5 of 5 bubbles]                               [ Doosra ]   \n",
       "8     [5 of 5 bubbles]                               [ Doosra ]   \n",
       "9     [5 of 5 bubbles]                           [ Mezzet Dar ]   \n",
       "10    [5 of 5 bubbles]                           [ Revolution ]   \n",
       "11    [5 of 5 bubbles]                    [ Sweet Rose Cakery ]   \n",
       "12    [5 of 5 bubbles]                      [ L'oro di Napoli ]   \n",
       "13    [5 of 5 bubbles]                      [ L'oro di Napoli ]   \n",
       "14    [5 of 5 bubbles]                    [ Sweet Rose Cakery ]   \n",
       "15    [5 of 5 bubbles]                           [ Revolution ]   \n",
       "16    [5 of 5 bubbles]  [ Oliveira Organic Vegetarian Kitchen ]   \n",
       "17    [5 of 5 bubbles]                      [ L'oro di Napoli ]   \n",
       "18    [4 of 5 bubbles]  [ Oliveira Organic Vegetarian Kitchen ]   \n",
       "19    [5 of 5 bubbles]  [ Oliveira Organic Vegetarian Kitchen ]   \n",
       "20    [5 of 5 bubbles]  [ Oliveira Organic Vegetarian Kitchen ]   \n",
       "21    [5 of 5 bubbles]  [ Oliveira Organic Vegetarian Kitchen ]   \n",
       "22    [3 of 5 bubbles]  [ Oliveira Organic Vegetarian Kitchen ]   \n",
       "23    [5 of 5 bubbles]  [ Oliveira Organic Vegetarian Kitchen ]   \n",
       "24    [5 of 5 bubbles]  [ Oliveira Organic Vegetarian Kitchen ]   \n",
       "25    [5 of 5 bubbles]  [ Oliveira Organic Vegetarian Kitchen ]   \n",
       "26    [5 of 5 bubbles]                              [ Q Verde ]   \n",
       "27    [5 of 5 bubbles]                              [ Q Verde ]   \n",
       "28    [5 of 5 bubbles]                              [ Q Verde ]   \n",
       "29    [5 of 5 bubbles]                              [ Q Verde ]   \n",
       "...                ...                                      ...   \n",
       "3630  [5 of 5 bubbles]                                [ Sidra ]   \n",
       "3631  [5 of 5 bubbles]                                [ Sidra ]   \n",
       "3632  [4 of 5 bubbles]                                [ Sidra ]   \n",
       "3633  [5 of 5 bubbles]                                [ Sidra ]   \n",
       "3634  [5 of 5 bubbles]                                [ Sidra ]   \n",
       "3635  [5 of 5 bubbles]                          [ MOMO & ROTI ]   \n",
       "3636  [5 of 5 bubbles]                                [ Sidra ]   \n",
       "3637  [4 of 5 bubbles]                                [ Sidra ]   \n",
       "3638  [5 of 5 bubbles]                          [ MOMO & ROTI ]   \n",
       "3639  [5 of 5 bubbles]                          [ MOMO & ROTI ]   \n",
       "3640  [5 of 5 bubbles]                          [ MOMO & ROTI ]   \n",
       "3641  [5 of 5 bubbles]                          [ MOMO & ROTI ]   \n",
       "3642  [5 of 5 bubbles]                          [ MOMO & ROTI ]   \n",
       "3643  [5 of 5 bubbles]                     [ The French Table ]   \n",
       "3644  [5 of 5 bubbles]                     [ The French Table ]   \n",
       "3645  [5 of 5 bubbles]                          [ MOMO & ROTI ]   \n",
       "3646  [5 of 5 bubbles]                     [ The French Table ]   \n",
       "3647  [5 of 5 bubbles]                     [ The French Table ]   \n",
       "3648  [4 of 5 bubbles]                     [ The French Table ]   \n",
       "3649  [5 of 5 bubbles]                     [ The French Table ]   \n",
       "3650  [5 of 5 bubbles]                     [ The French Table ]   \n",
       "3651  [5 of 5 bubbles]                     [ The French Table ]   \n",
       "3652  [5 of 5 bubbles]                     [ The French Table ]   \n",
       "3653  [5 of 5 bubbles]           [ Mezzet Lebanese Restaurant ]   \n",
       "3654  [5 of 5 bubbles]           [ Mezzet Lebanese Restaurant ]   \n",
       "3655  [3 of 5 bubbles]           [ Mezzet Lebanese Restaurant ]   \n",
       "3656  [5 of 5 bubbles]           [ Mezzet Lebanese Restaurant ]   \n",
       "3657  [5 of 5 bubbles]           [ Mezzet Lebanese Restaurant ]   \n",
       "3658  [5 of 5 bubbles]           [ Mezzet Lebanese Restaurant ]   \n",
       "3659  [5 of 5 bubbles]           [ Mezzet Lebanese Restaurant ]   \n",
       "\n",
       "                 name                                    partial content  \\\n",
       "0            Naheed R  Amazing friendly staff. Very good prices. Food...   \n",
       "1            leona939  Great food, friendly staff, decent prices. I h...   \n",
       "2             kazowen  The most amazing breakfast, ingredients fresh ...   \n",
       "3     richardcC3581NV  So why not five stars? Everything was was very...   \n",
       "4        LuxeLoverLdn  Took my mum for a midweek lunch. 10/10 service...   \n",
       "5           faiths687  I’ve visited here twice this restaurant twice ...   \n",
       "6          Lovesbitez  Really lovely food, fresh and tasty. Perfect ....   \n",
       "7            phcsmith  It was the ethical ethos of this restaurant th...   \n",
       "8             David M  What a surprisingly super culinary experience....   \n",
       "9            199willk  I love this place! The food is top notch and t...   \n",
       "10         Johnnyuu36  Our waitress Sofia was so lovely , she really ...   \n",
       "11             Iris M  We had a very relaxing afternoon tea fresh san...   \n",
       "12    federicapJ339XX  We go to L’oro di Napoli every two weeks and e...   \n",
       "13          jordib544  This little familiar restaurant should become ...   \n",
       "14              lea b  Was here yesterday10th September with my husba...   \n",
       "15          772sallyn  Iulian was amazing so funny!!!!! Made the whol...   \n",
       "16             651mrp  Dinner last night was very enjoyable - good bu...   \n",
       "17              Jkeyy  It was our first visit as someone recommended ...   \n",
       "18      irenegN5702RK  I brought my entire family for dinner to Olive...   \n",
       "19           41simonr  Great spot for Sunday breakfast. Very healthy ...   \n",
       "20            bry1545  Wow- what an amazing find. The meal we had was...   \n",
       "21           cabe75uk  I went for dinner all my plates was wonderfoul...   \n",
       "22               nhmo  Read great reviews so headed out on a rainy ni...   \n",
       "23    HappyToDiscover  I came to this restaurant with my family who n...   \n",
       "24           Cslade86  Popped in for lunch after a walk through Richm...   \n",
       "25     Daydream739029  Delicious selection of vegan options. Lovely s...   \n",
       "26           David69M  Fantastic evening with outstanding food and se...   \n",
       "27          jjcolbert  Went to the restaurant at 6pm before the Kew L...   \n",
       "28           Tracey H            What a great little restaurant in Kew .   \n",
       "29            Nikaldz  Very friendly and welcoming atmosphere at the ...   \n",
       "...               ...                                                ...   \n",
       "3630          Karam S  So delicious food ..clean . Fresh. Mezza for 2...   \n",
       "3631        Alan-Fifi  I can not recommend strongly enough how good t...   \n",
       "3632          reahs27  Lived in the Middle East for 10 years, living ...   \n",
       "3633      ianhJ8487ZA  Came across Sidra completely by accident as th...   \n",
       "3634           SAENBE      Wow, I left feeling very happy and satisfied!   \n",
       "3635         Shree977  I have visited this place several times with f...   \n",
       "3636        adnans183  I loved everything about this restaurant: the ...   \n",
       "3637       91chandnib  Extremely Friendly and Food is Delicious! Nice...   \n",
       "3638       Poulton_66  Superb, authentic food served very politely. D...   \n",
       "3639      TracymaccyG  Momo & Roti has the most delicious dishes we w...   \n",
       "3640          Suman S  Best Jhol Momo in UK. Me and my family always ...   \n",
       "3641       rahul1707s  The owner (Basant) was very welcoming and help...   \n",
       "3642           monspy  We got the sandekho fried momos (chicken) and ...   \n",
       "3643     V6226FMjohns  Been a few times now and these guys never let ...   \n",
       "3644        eveagni92  Amazing food, must go! If you don’t your missi...   \n",
       "3645       Sumithra M  Lovely place with excellent food and they did ...   \n",
       "3646        814SarahT  A special celebration and a very special meal....   \n",
       "3647         877sianl  The French Table is my favourite restaurant an...   \n",
       "3648  Mark Benjamin L  I attended a group lunch just before Christmas...   \n",
       "3649          ffw1965  As always good food, wine and ambience. It was...   \n",
       "3650        caroljose  It was our first visit to the French table and...   \n",
       "3651         GarethrT  Visited for our friends anniversary lunch. We ...   \n",
       "3652    quentonlennon  Nothing bad to say about this place. The food ...   \n",
       "3653          qingham  Brilliant restaurant - catered for a huge fami...   \n",
       "3654   OneLovesTravel  We returned for our girlie Christmas gathering...   \n",
       "3655          135bexa  I visited this restaurant by accident actually...   \n",
       "3656    I8025IKdonnal  We were a large group from the states; was the...   \n",
       "3657     robinmB207OY  Came here as a group of six. Good value and th...   \n",
       "3658            VMD67  Mezzet is always very welcoming and you will n...   \n",
       "3659      jackdL849SV  We recently went to Mezzet for the second time...   \n",
       "\n",
       "                                                  title  \n",
       "0                        Great food even better service  \n",
       "1                                            Great food  \n",
       "2                                       Breakfast Bliss  \n",
       "3              Friendly staff, good food, good portions  \n",
       "4                                              Go here!  \n",
       "5                     Beautiful food and lovely service  \n",
       "6                                                   Ann  \n",
       "7          Ethical Indian restaurant well worth a visit  \n",
       "8     It's rare to find a really good authentic nort...  \n",
       "9     A brilliant restaurant - delicious food and ex...  \n",
       "10                                      Best night ever  \n",
       "11                                   Relaxing afternoon  \n",
       "12                            The best Pizza in London!  \n",
       "13                   As always the best Pizza in London  \n",
       "14                                     Lunchtime Heaven  \n",
       "15                                Cocktail master class  \n",
       "16                           Good food, good atmosphere  \n",
       "17                       Friendly staff and great food   \n",
       "18                       Superb plant based reastaurant  \n",
       "19                                      Healthy quality  \n",
       "20                                          Blown away!  \n",
       "21                                         really taste  \n",
       "22                                Long Trek for OK food  \n",
       "23              Amazing restaurant, highly recommended.  \n",
       "24                                  Lovely Sunday Lunch  \n",
       "25    Cosy Quiet Vegetarian Eco-Friendly Eatery with...  \n",
       "26                         Outstanding food and service  \n",
       "27                              Amazing Genuine Italian  \n",
       "28                                    Great restaurant!  \n",
       "29                                       Amazing food!!  \n",
       "...                                                 ...  \n",
       "3630                  The best restaurant in teddington  \n",
       "3631                                        Never Fails  \n",
       "3632                                  Arabian Delights!  \n",
       "3633                         Lovely middle eastern food  \n",
       "3634   Great food, attentive staff & relaxed atmosphere  \n",
       "3635                               Best momo in London!  \n",
       "3636                                    Wonderful place  \n",
       "3637                                         Great Cafe  \n",
       "3638                                  Great, fresh food  \n",
       "3639     A must if you want a variety of delicious food  \n",
       "3640                                     Best as always  \n",
       "3641              Authentic Nepali food at decent price  \n",
       "3642                   Authentic delicious nepali momos  \n",
       "3643                            Excellent festive lunch  \n",
       "3644                                         Delicious   \n",
       "3645                                 Authentic flavours  \n",
       "3646                                            Superb   \n",
       "3647                 Fantastic Christmas set lunch menu  \n",
       "3648                              A charming restaurant  \n",
       "3649                                     Always a treat  \n",
       "3650                             Lovely birthday lunch   \n",
       "3651                                  Anniversary lunch  \n",
       "3652                                        First Class  \n",
       "3653                                     Ask for Jonas!  \n",
       "3654                                Always outstanding   \n",
       "3655                          I visited this restaurant  \n",
       "3656                          Over the top exceptional!  \n",
       "3657                                   Best in the area  \n",
       "3658                                   Simply Delicious  \n",
       "3659                                    Fantastic Meal!  \n",
       "\n",
       "[3660 rows x 5 columns]"
      ]
     },
     "execution_count": 26,
     "metadata": {},
     "output_type": "execute_result"
    }
   ],
   "source": [
    "df"
   ]
  },
  {
   "cell_type": "code",
   "execution_count": null,
   "metadata": {},
   "outputs": [],
   "source": []
  }
 ],
 "metadata": {
  "kernelspec": {
   "display_name": "Python 3",
   "language": "python",
   "name": "python3"
  },
  "language_info": {
   "codemirror_mode": {
    "name": "ipython",
    "version": 3
   },
   "file_extension": ".py",
   "mimetype": "text/x-python",
   "name": "python",
   "nbconvert_exporter": "python",
   "pygments_lexer": "ipython3",
   "version": "3.7.3"
  },
  "toc": {
   "base_numbering": 1,
   "nav_menu": {},
   "number_sections": true,
   "sideBar": true,
   "skip_h1_title": false,
   "title_cell": "Table of Contents",
   "title_sidebar": "Contents",
   "toc_cell": false,
   "toc_position": {},
   "toc_section_display": true,
   "toc_window_display": false
  },
  "varInspector": {
   "cols": {
    "lenName": 16,
    "lenType": 16,
    "lenVar": 40
   },
   "kernels_config": {
    "python": {
     "delete_cmd_postfix": "",
     "delete_cmd_prefix": "del ",
     "library": "var_list.py",
     "varRefreshCmd": "print(var_dic_list())"
    },
    "r": {
     "delete_cmd_postfix": ") ",
     "delete_cmd_prefix": "rm(",
     "library": "var_list.r",
     "varRefreshCmd": "cat(var_dic_list()) "
    }
   },
   "types_to_exclude": [
    "module",
    "function",
    "builtin_function_or_method",
    "instance",
    "_Feature"
   ],
   "window_display": false
  }
 },
 "nbformat": 4,
 "nbformat_minor": 4
}
