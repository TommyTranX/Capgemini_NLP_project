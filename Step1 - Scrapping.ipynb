{
 "cells": [
  {
   "cell_type": "markdown",
   "metadata": {},
   "source": [
    "# Step1 - Scrapping"
   ]
  },
  {
   "cell_type": "code",
   "execution_count": 5,
   "metadata": {
    "ExecuteTime": {
     "end_time": "2020-02-04T15:00:03.873007Z",
     "start_time": "2020-02-04T15:00:03.246373Z"
    }
   },
   "outputs": [],
   "source": [
    "# Imports\n",
    "import os\n",
    "import json\n",
    "import numpy as np\n",
    "import pandas as pd\n",
    "import seaborn as sns\n",
    "import matplotlib.pyplot as plt\n",
    "\n",
    "import scrapy # we will use the scrapy package\n",
    "import requests\n",
    "from scrapy.selector import Selector\n",
    "\n",
    "# Set seaborn display\n",
    "sns.set()"
   ]
  },
  {
   "cell_type": "markdown",
   "metadata": {},
   "source": [
    "### Training: scrapping the Polytechnique website"
   ]
  },
  {
   "cell_type": "markdown",
   "metadata": {},
   "source": [
    "Using selectors, we created a spider which get all the information from polytechnique News page."
   ]
  },
  {
   "cell_type": "markdown",
   "metadata": {},
   "source": [
    "#### Running spider \n",
    "\n",
    "(Running the spider might take over one minute if you remove the __\"-a nb_article_max=100\"__ to get all the articles)"
   ]
  },
  {
   "cell_type": "code",
   "execution_count": 7,
   "metadata": {
    "ExecuteTime": {
     "end_time": "2020-02-04T15:00:07.081618Z",
     "start_time": "2020-02-04T15:00:04.757223Z"
    }
   },
   "outputs": [
    {
     "name": "stdout",
     "output_type": "stream",
     "text": [
      "Scrapping finished.\n"
     ]
    }
   ],
   "source": [
    "# Parameters for spider execution\n",
    "file_path = '../scrapped_data/'\n",
    "file_name = 'actuX_basic_nbk_data.jl'\n",
    "spider_name = 'actuX_basic'\n",
    "path = file_path + file_name\n",
    "\n",
    "# Check if file already exists\n",
    "if file_name in os.listdir(file_path):\n",
    "    _ = os.remove(path)\n",
    "\n",
    "# Execution of spider\n",
    "cmd1 = 'cd ../TA_scrapy/'\n",
    "cmd2 = 'scrapy crawl {} -o {} -a nb_article_max=100'.format(spider_name, path)\n",
    "cmd = cmd1 + ' && ' + cmd2\n",
    "_ = os.system(cmd)\n",
    "\n",
    "if _==0:\n",
    "    print(\"Scrapping finished.\")\n",
    "else:\n",
    "    print('Look at the bash to understand error.')"
   ]
  },
  {
   "cell_type": "markdown",
   "metadata": {},
   "source": [
    "#### Reading scrapped data"
   ]
  },
  {
   "cell_type": "code",
   "execution_count": 8,
   "metadata": {
    "ExecuteTime": {
     "end_time": "2020-02-04T15:00:08.104066Z",
     "start_time": "2020-02-04T15:00:08.078428Z"
    }
   },
   "outputs": [],
   "source": [
    "# Function rto read jl file\n",
    "def read_jl_file(file_name):\n",
    "    values = []\n",
    "    with open(file_name, 'rb') as f:\n",
    "        line = '---'\n",
    "        while len(line)>1:\n",
    "            line = f.readline()\n",
    "            values.append(line)\n",
    "    values = values[:-1]\n",
    "    values = [json.loads(i) for i in values]\n",
    "    df = pd.DataFrame(values)\n",
    "    return df\n",
    "\n",
    "# Reading file\n",
    "df = read_jl_file(path)"
   ]
  },
  {
   "cell_type": "code",
   "execution_count": 9,
   "metadata": {
    "ExecuteTime": {
     "end_time": "2020-02-04T15:00:08.391342Z",
     "start_time": "2020-02-04T15:00:08.365564Z"
    }
   },
   "outputs": [
    {
     "name": "stdout",
     "output_type": "stream",
     "text": [
      "(100, 6)\n"
     ]
    },
    {
     "data": {
      "text/html": [
       "<div>\n",
       "<style scoped>\n",
       "    .dataframe tbody tr th:only-of-type {\n",
       "        vertical-align: middle;\n",
       "    }\n",
       "\n",
       "    .dataframe tbody tr th {\n",
       "        vertical-align: top;\n",
       "    }\n",
       "\n",
       "    .dataframe thead th {\n",
       "        text-align: right;\n",
       "    }\n",
       "</style>\n",
       "<table border=\"1\" class=\"dataframe\">\n",
       "  <thead>\n",
       "    <tr style=\"text-align: right;\">\n",
       "      <th></th>\n",
       "      <th>content</th>\n",
       "      <th>date_article</th>\n",
       "      <th>lien_article</th>\n",
       "      <th>related_subject</th>\n",
       "      <th>related_subject_links</th>\n",
       "      <th>titre_article</th>\n",
       "    </tr>\n",
       "  </thead>\n",
       "  <tbody>\n",
       "    <tr>\n",
       "      <th>0</th>\n",
       "      <td>L’École polytechnique est le 1er établissement...</td>\n",
       "      <td>30 Janvier 2020</td>\n",
       "      <td>/fr/content/lx-la-plus-internationale-des-univ...</td>\n",
       "      <td>[Classement]</td>\n",
       "      <td>[/fr/classement]</td>\n",
       "      <td>L’X, la plus internationale des universités fr...</td>\n",
       "    </tr>\n",
       "    <tr>\n",
       "      <th>1</th>\n",
       "      <td>Les priorités de l’X pour 2020 s’inscrivent da...</td>\n",
       "      <td>28 Janvier 2020</td>\n",
       "      <td>/fr/content/lecole-polytechnique-fixe-ses-prio...</td>\n",
       "      <td>[Institutionnel, Campus]</td>\n",
       "      <td>[/fr/type/institutionnel, /fr/type/campus]</td>\n",
       "      <td>L’École polytechnique fixe ses priorités pour ...</td>\n",
       "    </tr>\n",
       "    <tr>\n",
       "      <th>2</th>\n",
       "      <td>Le 14 février 2020, l’X célèbre les 35 ans de ...</td>\n",
       "      <td>28 Janvier 2020</td>\n",
       "      <td>/fr/content/lamplification-laser-35-ans-apres-...</td>\n",
       "      <td>[Recherche, Conference]</td>\n",
       "      <td>[/fr/les-actualites-de-la-recherche, /fr/confe...</td>\n",
       "      <td>L’amplification laser : 35 ans après, des pote...</td>\n",
       "    </tr>\n",
       "    <tr>\n",
       "      <th>3</th>\n",
       "      <td>Deux équipes de trois élèves de l’X sont arriv...</td>\n",
       "      <td>27 Janvier 2020</td>\n",
       "      <td>/fr/content/lx-remporte-pour-la-premiere-fois-...</td>\n",
       "      <td>[Campus, Prix]</td>\n",
       "      <td>[/fr/type/campus, /fr/prix-et-distinctions]</td>\n",
       "      <td>L’X remporte pour la première fois le concours...</td>\n",
       "    </tr>\n",
       "    <tr>\n",
       "      <th>4</th>\n",
       "      <td>Le Département d’économie et la chaire Econoph...</td>\n",
       "      <td>27 Janvier 2020</td>\n",
       "      <td>/fr/content/colloque-la-multidisciplinarite-po...</td>\n",
       "      <td>[Recherche, Conference, CREST, LADHYX]</td>\n",
       "      <td>[/fr/les-actualites-de-la-recherche, /fr/confe...</td>\n",
       "      <td>Colloque : la multidisciplinarité pour mieux c...</td>\n",
       "    </tr>\n",
       "  </tbody>\n",
       "</table>\n",
       "</div>"
      ],
      "text/plain": [
       "                                             content     date_article  \\\n",
       "0  L’École polytechnique est le 1er établissement...  30 Janvier 2020   \n",
       "1  Les priorités de l’X pour 2020 s’inscrivent da...  28 Janvier 2020   \n",
       "2  Le 14 février 2020, l’X célèbre les 35 ans de ...  28 Janvier 2020   \n",
       "3  Deux équipes de trois élèves de l’X sont arriv...  27 Janvier 2020   \n",
       "4  Le Département d’économie et la chaire Econoph...  27 Janvier 2020   \n",
       "\n",
       "                                        lien_article  \\\n",
       "0  /fr/content/lx-la-plus-internationale-des-univ...   \n",
       "1  /fr/content/lecole-polytechnique-fixe-ses-prio...   \n",
       "2  /fr/content/lamplification-laser-35-ans-apres-...   \n",
       "3  /fr/content/lx-remporte-pour-la-premiere-fois-...   \n",
       "4  /fr/content/colloque-la-multidisciplinarite-po...   \n",
       "\n",
       "                          related_subject  \\\n",
       "0                            [Classement]   \n",
       "1                [Institutionnel, Campus]   \n",
       "2                 [Recherche, Conference]   \n",
       "3                          [Campus, Prix]   \n",
       "4  [Recherche, Conference, CREST, LADHYX]   \n",
       "\n",
       "                               related_subject_links  \\\n",
       "0                                   [/fr/classement]   \n",
       "1         [/fr/type/institutionnel, /fr/type/campus]   \n",
       "2  [/fr/les-actualites-de-la-recherche, /fr/confe...   \n",
       "3        [/fr/type/campus, /fr/prix-et-distinctions]   \n",
       "4  [/fr/les-actualites-de-la-recherche, /fr/confe...   \n",
       "\n",
       "                                       titre_article  \n",
       "0  L’X, la plus internationale des universités fr...  \n",
       "1  L’École polytechnique fixe ses priorités pour ...  \n",
       "2  L’amplification laser : 35 ans après, des pote...  \n",
       "3  L’X remporte pour la première fois le concours...  \n",
       "4  Colloque : la multidisciplinarité pour mieux c...  "
      ]
     },
     "execution_count": 9,
     "metadata": {},
     "output_type": "execute_result"
    }
   ],
   "source": [
    "# Having a brief look at data\n",
    "print(df.shape)\n",
    "\n",
    "df.head()"
   ]
  },
  {
   "cell_type": "markdown",
   "metadata": {},
   "source": [
    "#### Brief analysis of scrapped data"
   ]
  },
  {
   "cell_type": "markdown",
   "metadata": {},
   "source": [
    "__Seeing the most frequent mentions__"
   ]
  },
  {
   "cell_type": "code",
   "execution_count": 10,
   "metadata": {
    "ExecuteTime": {
     "end_time": "2020-02-04T15:00:09.229634Z",
     "start_time": "2020-02-04T15:00:09.217157Z"
    }
   },
   "outputs": [
    {
     "data": {
      "text/plain": [
       "Recherche          54\n",
       "Formation          18\n",
       "Campus             17\n",
       "Prix               12\n",
       "Entrepreneuriat    11\n",
       "dtype: int64"
      ]
     },
     "execution_count": 10,
     "metadata": {},
     "output_type": "execute_result"
    }
   ],
   "source": [
    "related_subjects = []\n",
    "for subjects in df['related_subject'].tolist():\n",
    "    related_subjects += subjects     \n",
    "pd.Series(related_subjects).value_counts().head()"
   ]
  },
  {
   "cell_type": "markdown",
   "metadata": {},
   "source": [
    "__Counting the number of publications through times__"
   ]
  },
  {
   "cell_type": "code",
   "execution_count": 11,
   "metadata": {
    "ExecuteTime": {
     "end_time": "2020-02-04T15:00:09.603501Z",
     "start_time": "2020-02-04T15:00:09.597376Z"
    }
   },
   "outputs": [],
   "source": [
    "def translate_month(x):\n",
    "    translate_dict = {\n",
    "        'Janvier':'january',\n",
    "        'Février':'february',\n",
    "        'Mars':'march',\n",
    "        'Avril':'april',\n",
    "        'Mai':'may',\n",
    "        'Juin':'june',\n",
    "        'Juillet':'july',\n",
    "        'Aout':'august',\n",
    "        'Septembre':'september',\n",
    "        'Octobre':'october',\n",
    "        'Novembre':'november',\n",
    "        'Décembre':'december'}\n",
    "    for french, english in translate_dict.items():\n",
    "        x = x.replace(french, english)\n",
    "    return x"
   ]
  },
  {
   "cell_type": "code",
   "execution_count": 12,
   "metadata": {
    "ExecuteTime": {
     "end_time": "2020-02-04T15:00:10.463213Z",
     "start_time": "2020-02-04T15:00:09.827946Z"
    }
   },
   "outputs": [
    {
     "data": {
      "image/png": "[encoded data removed]",
      "text/plain": [
       "<Figure size 1440x504 with 1 Axes>"
      ]
     },
     "metadata": {},
     "output_type": "display_data"
    }
   ],
   "source": [
    "# Transforming French date into English date so that pandas understands it as a date\n",
    "df['date'] = df['date_article'].apply(translate_month)\n",
    "\n",
    "# Preparing for plotting\n",
    "tmp = pd.to_datetime(df['date'], errors='coerce').value_counts()\n",
    "\n",
    "# Realizing plotting\n",
    "_ = plt.figure(figsize=(20,7))\n",
    "_ = tmp.plot(marker='o', linewidth=0.1)\n",
    "_ = plt.show()"
   ]
  },
  {
   "cell_type": "markdown",
   "metadata": {},
   "source": [
    "### Project: scrapping TripAdvisor"
   ]
  },
  {
   "cell_type": "markdown",
   "metadata": {},
   "source": [
    "#### Discovering TripAdvisor"
   ]
  },
  {
   "cell_type": "markdown",
   "metadata": {},
   "source": [
    "Here is how we will proceed before building our spider:\n",
    "- Open a review page and check how to parse it\n",
    "- Open a restaurant page and check how to get reviews urls\n",
    "- Open a restaurant page and check how to get to next page of reviews\n",
    "- Open a city page and check how to get restaurant urls\n",
    "- Open a city page and check how to get the net page of restaurants\n",
    "- Try to put it altogether"
   ]
  },
  {
   "cell_type": "code",
   "execution_count": 1,
   "metadata": {},
   "outputs": [],
   "source": [
    "# To begin with, 3 urls types\n",
    "example_url_city = 'https://www.tripadvisor.co.uk/Restaurants-g187147-Paris_Ile_de_France.html'\n",
    "example_url_restaurant = 'https://www.tripadvisor.co.uk/Restaurant_Review-g187147-d9806534-Reviews-ASPIC-Paris_Ile_de_France.html'\n",
    "example_url_review = 'https://www.tripadvisor.co.uk/ShowUserReviews-g187147-d9806534-r731227577-ASPIC-Paris_Ile_de_France.html'"
   ]
  },
  {
   "cell_type": "markdown",
   "metadata": {},
   "source": [
    "#### Preparing selectors in spider perspective"
   ]
  },
  {
   "cell_type": "markdown",
   "metadata": {},
   "source": [
    "**Parsing restaurant list**"
   ]
  },
  {
   "cell_type": "code",
   "execution_count": null,
   "metadata": {},
   "outputs": [],
   "source": []
  },
  {
   "cell_type": "markdown",
   "metadata": {},
   "source": [
    "**Parsing restaurant page**"
   ]
  },
  {
   "cell_type": "code",
   "execution_count": null,
   "metadata": {},
   "outputs": [],
   "source": []
  },
  {
   "cell_type": "markdown",
   "metadata": {},
   "source": [
    "**Parsing review**"
   ]
  },
  {
   "cell_type": "code",
   "execution_count": null,
   "metadata": {},
   "outputs": [],
   "source": []
  },
  {
   "cell_type": "markdown",
   "metadata": {},
   "source": [
    "**Navigating between pages**"
   ]
  },
  {
   "cell_type": "code",
   "execution_count": null,
   "metadata": {},
   "outputs": [],
   "source": []
  }
 ],
 "metadata": {
  "kernelspec": {
   "display_name": "Python 3",
   "language": "python",
   "name": "python3"
  },
  "language_info": {
   "codemirror_mode": {
    "name": "ipython",
    "version": 3
   },
   "file_extension": ".py",
   "mimetype": "text/x-python",
   "name": "python",
   "nbconvert_exporter": "python",
   "pygments_lexer": "ipython3",
   "version": "3.7.3"
  },
  "toc": {
   "base_numbering": 1,
   "nav_menu": {},
   "number_sections": true,
   "sideBar": true,
   "skip_h1_title": false,
   "title_cell": "Table of Contents",
   "title_sidebar": "Contents",
   "toc_cell": false,
   "toc_position": {},
   "toc_section_display": true,
   "toc_window_display": false
  },
  "varInspector": {
   "cols": {
    "lenName": 16,
    "lenType": 16,
    "lenVar": 40
   },
   "kernels_config": {
    "python": {
     "delete_cmd_postfix": "",
     "delete_cmd_prefix": "del ",
     "library": "var_list.py",
     "varRefreshCmd": "print(var_dic_list())"
    },
    "r": {
     "delete_cmd_postfix": ") ",
     "delete_cmd_prefix": "rm(",
     "library": "var_list.r",
     "varRefreshCmd": "cat(var_dic_list()) "
    }
   },
   "types_to_exclude": [
    "module",
    "function",
    "builtin_function_or_method",
    "instance",
    "_Feature"
   ],
   "window_display": false
  }
 },
 "nbformat": 4,
 "nbformat_minor": 4
}
